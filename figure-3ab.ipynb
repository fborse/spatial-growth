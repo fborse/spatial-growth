{
 "cells": [
  {
   "cell_type": "code",
   "execution_count": 1,
   "id": "ab166010",
   "metadata": {},
   "outputs": [],
   "source": [
    "import numpy as np\n",
    "import pandas as pd"
   ]
  },
  {
   "cell_type": "code",
   "execution_count": 2,
   "id": "c8d2bdad",
   "metadata": {},
   "outputs": [],
   "source": [
    "from matplotlib import pyplot as plt\n",
    "import seaborn as sns"
   ]
  },
  {
   "cell_type": "code",
   "execution_count": 3,
   "id": "bea7fd9f",
   "metadata": {},
   "outputs": [],
   "source": [
    "from itertools import product"
   ]
  },
  {
   "cell_type": "code",
   "execution_count": 4,
   "id": "a83a729c",
   "metadata": {},
   "outputs": [],
   "source": [
    "from commons import smoothen, lse"
   ]
  },
  {
   "cell_type": "code",
   "execution_count": 5,
   "id": "11f32b87",
   "metadata": {},
   "outputs": [],
   "source": [
    "fontsize = 14"
   ]
  },
  {
   "cell_type": "markdown",
   "id": "e6a998e6",
   "metadata": {},
   "source": [
    "# Loading the data"
   ]
  },
  {
   "cell_type": "markdown",
   "id": "75e4b5e3",
   "metadata": {},
   "source": [
    "## $N_i(t)$"
   ]
  },
  {
   "cell_type": "markdown",
   "id": "1020a84d",
   "metadata": {},
   "source": [
    "In order to compute the $\\rho_i(t)$ as to compare them with their predictions, we first load the $N_i(t)$, which we smoothen accordingly :"
   ]
  },
  {
   "cell_type": "code",
   "execution_count": 6,
   "id": "4debd4bb",
   "metadata": {},
   "outputs": [],
   "source": [
    "Nt = smoothen(np.load(\"curves_raw.npy\"), 10)"
   ]
  },
  {
   "cell_type": "markdown",
   "id": "b2d5b720",
   "metadata": {},
   "source": [
    "## $\\rho_i(t)$"
   ]
  },
  {
   "cell_type": "markdown",
   "id": "1fd28cd8",
   "metadata": {},
   "source": [
    "We then first calculate the discrete derivatives $\\frac{\\Delta N_i(t)}{\\Delta t} = \\Delta N_i(t) = N_i(t+1) - N_i(t)$"
   ]
  },
  {
   "cell_type": "code",
   "execution_count": 7,
   "id": "0b6f5dc5",
   "metadata": {},
   "outputs": [],
   "source": [
    "dNdt = Nt[..., 1:] - Nt[..., :-1]"
   ]
  },
  {
   "cell_type": "markdown",
   "id": "fe2804f7",
   "metadata": {},
   "source": [
    "and then the $\\rho_i(t) = \\frac{\\Delta N_i(t)}{N_i(t)}$"
   ]
  },
  {
   "cell_type": "code",
   "execution_count": 8,
   "id": "f78a9572",
   "metadata": {},
   "outputs": [],
   "source": [
    "rho = dNdt / Nt[..., :-1]"
   ]
  },
  {
   "cell_type": "markdown",
   "id": "ed4e0c59",
   "metadata": {},
   "source": [
    "## $\\hat\\rho_i(t)$"
   ]
  },
  {
   "cell_type": "markdown",
   "id": "a723e43b",
   "metadata": {},
   "source": [
    "Then we load the predicted $\\hat\\rho_i(t)$ from the various models.\n",
    "\n",
    "First the location-and-population-specific $\\hat\\rho_i(t) = \\alpha_i(t) \\; \\epsilon_k(t)$ model :"
   ]
  },
  {
   "cell_type": "code",
   "execution_count": 9,
   "id": "8154b707",
   "metadata": {},
   "outputs": [],
   "source": [
    "aek = np.load(\"predictions/level-2_alpha-epsilon_k.npy\")"
   ]
  },
  {
   "cell_type": "markdown",
   "id": "6c0022c0",
   "metadata": {},
   "source": [
    "Then the density-dependent $\\hat\\rho_i(t) = \\alpha_i(t) \\; \\epsilon_k(t) \\; \\phi(N_i(t))$ model :"
   ]
  },
  {
   "cell_type": "code",
   "execution_count": 10,
   "id": "7ffcd9b1",
   "metadata": {},
   "outputs": [],
   "source": [
    "aep = np.load(\"predictions/level-2_alpha-epsilon_k-phi.npy\")"
   ]
  },
  {
   "cell_type": "markdown",
   "id": "615c7e3d",
   "metadata": {},
   "source": [
    "Finally the diffusion model $\\hat\\rho_i(t) = \\alpha_i(t) \\; f(s(x_i, t))$ :"
   ]
  },
  {
   "cell_type": "code",
   "execution_count": 11,
   "id": "69175c1f",
   "metadata": {},
   "outputs": [],
   "source": [
    "diff = np.load(\"predictions/level-3_diffusion.npy\")"
   ]
  },
  {
   "cell_type": "markdown",
   "id": "a9ef3da4",
   "metadata": {},
   "source": [
    "# Computations"
   ]
  },
  {
   "cell_type": "markdown",
   "id": "bd1ec974",
   "metadata": {},
   "source": [
    "## Dimensions"
   ]
  },
  {
   "cell_type": "markdown",
   "id": "808007be",
   "metadata": {},
   "source": [
    "We get the dimensions of the data :"
   ]
  },
  {
   "cell_type": "code",
   "execution_count": 12,
   "id": "20957761",
   "metadata": {},
   "outputs": [],
   "source": [
    "n_plates, n_rows, n_columns, n_points = rho.shape\n",
    "plates, rows, columns, points = map(np.arange, rho.shape)"
   ]
  },
  {
   "cell_type": "markdown",
   "id": "36780d19",
   "metadata": {},
   "source": [
    "## Null model"
   ]
  },
  {
   "cell_type": "markdown",
   "id": "de252db4",
   "metadata": {},
   "source": [
    "We also compute here the null model $\\hat\\rho_i(t) = \\epsilon(t) = \\bar\\rho(t)$ :"
   ]
  },
  {
   "cell_type": "code",
   "execution_count": 13,
   "id": "0e70e381",
   "metadata": {},
   "outputs": [],
   "source": [
    "null = rho.reshape((n_plates, -1, n_points)).mean(axis = 1)"
   ]
  },
  {
   "cell_type": "markdown",
   "id": "85a7a9ce",
   "metadata": {},
   "source": [
    "## Errors"
   ]
  },
  {
   "cell_type": "markdown",
   "id": "b8214d60",
   "metadata": {},
   "source": [
    "We now compute the errors of each model by using the euclidean distance for each population $i$ along its time series :"
   ]
  },
  {
   "cell_type": "code",
   "execution_count": 14,
   "id": "335234b5",
   "metadata": {},
   "outputs": [],
   "source": [
    "_null = np.empty((n_plates, n_rows, n_columns))\n",
    "_aek, _aep, _diff = _null.copy(), _null.copy(), _null.copy()\n",
    "\n",
    "for p, r, c in product(plates, rows, columns):\n",
    "    _null[p, r, c] = lse(rho[p, r, c], null[p])\n",
    "    _aek[p, r, c] = lse(rho[p, r, c], aek[p, r, c])\n",
    "    _aep[p, r, c] = lse(rho[p, r, c], aep[p, r, c])\n",
    "    _diff[p, r, c] = lse(rho[p, r, c], diff[p, r+3, c+3])"
   ]
  },
  {
   "cell_type": "markdown",
   "id": "77225c66",
   "metadata": {},
   "source": [
    "# Figure"
   ]
  },
  {
   "cell_type": "markdown",
   "id": "48486b60",
   "metadata": {},
   "source": [
    "We group the error data and its names :"
   ]
  },
  {
   "cell_type": "code",
   "execution_count": 15,
   "id": "942de125",
   "metadata": {},
   "outputs": [],
   "source": [
    "errors = (_null, _aek, _aep, _diff)\n",
    "names = (\"null model\", r\"$\\alpha$ $\\epsilon_k$ model\", r\"$\\alpha$ $\\epsilon_k$ $s$ model\", \"diffusion model\")"
   ]
  },
  {
   "cell_type": "markdown",
   "id": "ef1aaae0",
   "metadata": {},
   "source": [
    "Change the variable `p` in order to generate the figure for other plates"
   ]
  },
  {
   "cell_type": "code",
   "execution_count": 16,
   "id": "83390263",
   "metadata": {},
   "outputs": [
    {
     "data": {
      "image/png": "[encoded data removed]",
      "text/plain": [
       "<Figure size 2400x400 with 5 Axes>"
      ]
     },
     "metadata": {},
     "output_type": "display_data"
    }
   ],
   "source": [
    "fig, axes = plt.subplots(ncols = len(errors), figsize = (24, 4), gridspec_kw = { \"width_ratios\": [1, 1, 1, 1.25] })\n",
    "\n",
    "p = 0\n",
    "\n",
    "_max = max( err[p].max() for err in errors )\n",
    "cmap = sns.color_palette(\"mako_r\", as_cmap = True)\n",
    "for i, (err, ax) in enumerate(zip(errors, axes)):\n",
    "    sns.heatmap(err[p], ax = ax, cmap = cmap, vmax = _max, cbar = (i == len(errors)-1))\n",
    "    xticks = [0] + list(range(9, n_columns, 10)) + [n_columns-1]\n",
    "    yticks = [0] + list(range(9, n_rows, 10)) + [n_rows-1]\n",
    "    ax.set_xticks(xticks, np.array(xticks) + 1)\n",
    "    ax.set_yticks(yticks, np.array(yticks) + 1)\n",
    "    if p == 0:\n",
    "        ax.set_title(names[i], fontsize = fontsize+2)\n",
    "    ax.set_ylabel(\"row\", fontsize = fontsize)\n",
    "    ax.set_xlabel(\"column\", fontsize = fontsize)\n",
    "\n",
    "axes[-1].collections[0].colorbar.ax.tick_params(labelsize = fontsize)\n",
    "\n",
    "fig.savefig(f\"plots/figure-3/spatial_plate-{p+1}.pdf\", bbox_inches = \"tight\")\n",
    "fig.savefig(f\"plots/figure-3/spatial_plate-{p+1}.png\", bbox_inches = \"tight\")"
   ]
  }
 ],
 "metadata": {
  "kernelspec": {
   "display_name": "Python 3 (ipykernel)",
   "language": "python",
   "name": "python3"
  },
  "language_info": {
   "codemirror_mode": {
    "name": "ipython",
    "version": 3
   },
   "file_extension": ".py",
   "mimetype": "text/x-python",
   "name": "python",
   "nbconvert_exporter": "python",
   "pygments_lexer": "ipython3",
   "version": "3.11.8"
  }
 },
 "nbformat": 4,
 "nbformat_minor": 5
}
