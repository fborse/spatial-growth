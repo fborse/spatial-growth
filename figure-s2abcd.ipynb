{
 "cells": [
  {
   "cell_type": "code",
   "execution_count": 1,
   "id": "331b0d27",
   "metadata": {},
   "outputs": [],
   "source": [
    "import numpy as np\n",
    "import pandas as pd"
   ]
  },
  {
   "cell_type": "code",
   "execution_count": 2,
   "id": "de666660",
   "metadata": {},
   "outputs": [],
   "source": [
    "from matplotlib import pyplot as plt\n",
    "import seaborn as sns"
   ]
  },
  {
   "cell_type": "code",
   "execution_count": 3,
   "id": "da85ea44",
   "metadata": {},
   "outputs": [],
   "source": [
    "from itertools import product"
   ]
  },
  {
   "cell_type": "code",
   "execution_count": 4,
   "id": "bddfc00b",
   "metadata": {},
   "outputs": [],
   "source": [
    "from commons import smoothen, lse"
   ]
  },
  {
   "cell_type": "code",
   "execution_count": 5,
   "id": "3c5604d6",
   "metadata": {},
   "outputs": [],
   "source": [
    "fontsize = 14"
   ]
  },
  {
   "cell_type": "markdown",
   "id": "376b2475",
   "metadata": {},
   "source": [
    "# Loading the data"
   ]
  },
  {
   "cell_type": "markdown",
   "id": "aeaf809d",
   "metadata": {},
   "source": [
    "## $N_i(t)$"
   ]
  },
  {
   "cell_type": "markdown",
   "id": "dc22f1d7",
   "metadata": {},
   "source": [
    "In order to compute the $\\rho_i(t)$ as to compare them with their predictions, we first load the $N_i(t)$, which we smoothen accordingly :"
   ]
  },
  {
   "cell_type": "code",
   "execution_count": 6,
   "id": "e7974881",
   "metadata": {},
   "outputs": [],
   "source": [
    "Nt = smoothen(np.load(\"curves_raw.npy\"), 10)"
   ]
  },
  {
   "cell_type": "markdown",
   "id": "62136062",
   "metadata": {},
   "source": [
    "## $\\rho_i(t)$"
   ]
  },
  {
   "cell_type": "markdown",
   "id": "646ec833",
   "metadata": {},
   "source": [
    "We then first calculate the discrete derivatives $\\frac{\\Delta N_i(t)}{\\Delta t} = \\Delta N_i(t) = N_i(t+1) - N_i(t)$"
   ]
  },
  {
   "cell_type": "code",
   "execution_count": 7,
   "id": "9bf799d9",
   "metadata": {},
   "outputs": [],
   "source": [
    "dNdt = Nt[..., 1:] - Nt[..., :-1]"
   ]
  },
  {
   "cell_type": "markdown",
   "id": "86663a81",
   "metadata": {},
   "source": [
    "and then the $\\rho_i(t) = \\frac{\\Delta N_i(t)}{N_i(t)}$"
   ]
  },
  {
   "cell_type": "code",
   "execution_count": 8,
   "id": "0e4c3c05",
   "metadata": {},
   "outputs": [],
   "source": [
    "rho = dNdt / Nt[..., :-1]"
   ]
  },
  {
   "cell_type": "markdown",
   "id": "7b3dbb76",
   "metadata": {},
   "source": [
    "## $\\hat\\rho_i(t)$"
   ]
  },
  {
   "cell_type": "markdown",
   "id": "8772c0a9",
   "metadata": {},
   "source": [
    "Then we load the predicted $\\hat\\rho_i(t)$ from the various models.\n",
    "\n",
    "First the population-specific $\\hat\\rho_i(t) = \\alpha_i(t) \\; \\epsilon(t)$ model :"
   ]
  },
  {
   "cell_type": "code",
   "execution_count": 9,
   "id": "efaafb66",
   "metadata": {},
   "outputs": [],
   "source": [
    "ae = np.load(\"predictions/level-2_alpha-epsilon.npy\")"
   ]
  },
  {
   "cell_type": "markdown",
   "id": "d6e77575",
   "metadata": {},
   "source": [
    "Then the location-and-population-specific $\\hat\\rho_i(t) = \\alpha_i(t) \\; \\epsilon_k(t)$ model :"
   ]
  },
  {
   "cell_type": "code",
   "execution_count": 10,
   "id": "33c11160",
   "metadata": {},
   "outputs": [],
   "source": [
    "aek = np.load(\"predictions/level-2_alpha-epsilon_k.npy\")"
   ]
  },
  {
   "cell_type": "markdown",
   "id": "d373a7a8",
   "metadata": {},
   "source": [
    "Then the density-dependent $\\hat\\rho_i(t) = \\alpha_i(t) \\; \\epsilon_k(t) \\; \\phi(N_i(t))$ model :"
   ]
  },
  {
   "cell_type": "code",
   "execution_count": 11,
   "id": "f5459b8f",
   "metadata": {},
   "outputs": [],
   "source": [
    "aep = np.load(\"predictions/level-2_alpha-epsilon_k-phi.npy\")"
   ]
  },
  {
   "cell_type": "markdown",
   "id": "a7b2dede",
   "metadata": {},
   "source": [
    "Finally the diffusion model $\\hat\\rho_i(t) = \\alpha_i(t) \\; f(s(x_i, t))$ :"
   ]
  },
  {
   "cell_type": "code",
   "execution_count": 12,
   "id": "65aea347",
   "metadata": {},
   "outputs": [],
   "source": [
    "diff = np.load(\"predictions/level-3_diffusion.npy\")"
   ]
  },
  {
   "cell_type": "markdown",
   "id": "9de2194f",
   "metadata": {},
   "source": [
    "Additionally, we load the ML model $x_i, N_i(t) \\mapsto \\rho_i(t)$ :"
   ]
  },
  {
   "cell_type": "code",
   "execution_count": 13,
   "id": "764716fd",
   "metadata": {},
   "outputs": [],
   "source": [
    "ml = np.load(\"predictions/level-1_position-Nt.npy\")"
   ]
  },
  {
   "cell_type": "markdown",
   "id": "dfaa6203",
   "metadata": {},
   "source": [
    "# Computations"
   ]
  },
  {
   "cell_type": "markdown",
   "id": "bb3aa2d8",
   "metadata": {},
   "source": [
    "## Dimensions"
   ]
  },
  {
   "cell_type": "markdown",
   "id": "53dbb5fe",
   "metadata": {},
   "source": [
    "We get the dimensions of the data :"
   ]
  },
  {
   "cell_type": "code",
   "execution_count": 14,
   "id": "1ce7106e",
   "metadata": {},
   "outputs": [],
   "source": [
    "n_plates, n_rows, n_columns, n_points = rho.shape\n",
    "plates, rows, columns, points = map(np.arange, rho.shape)"
   ]
  },
  {
   "cell_type": "markdown",
   "id": "afdda8d2",
   "metadata": {},
   "source": [
    "## Null model"
   ]
  },
  {
   "cell_type": "markdown",
   "id": "0d622752",
   "metadata": {},
   "source": [
    "We also compute here the null model $\\hat\\rho_i(t) = \\epsilon(t) = \\bar\\rho(t)$ :"
   ]
  },
  {
   "cell_type": "code",
   "execution_count": 15,
   "id": "5115246e",
   "metadata": {},
   "outputs": [],
   "source": [
    "null = rho.reshape((n_plates, -1, n_points)).mean(axis = 1)"
   ]
  },
  {
   "cell_type": "markdown",
   "id": "9d458cbc",
   "metadata": {},
   "source": [
    "## Errors"
   ]
  },
  {
   "cell_type": "markdown",
   "id": "f684c1f8",
   "metadata": {},
   "source": [
    "We now compute the errors of each model by using the euclidean distance for each population $i$ along its time series :"
   ]
  },
  {
   "cell_type": "code",
   "execution_count": 16,
   "id": "3ac12194",
   "metadata": {},
   "outputs": [],
   "source": [
    "_null = np.empty((n_plates, n_rows, n_columns))\n",
    "_ae, _aek, _aep, _diff, _ml = _null.copy(), _null.copy(), _null.copy(), _null.copy(), _null.copy()\n",
    "\n",
    "for p, r, c in product(plates, rows, columns):\n",
    "    _null[p, r, c] = lse(rho[p, r, c], null[p])\n",
    "    _ae[p, r, c] = lse(rho[p, r, c], ae[p, r, c])\n",
    "    _aek[p, r, c] = lse(rho[p, r, c], aek[p, r, c])\n",
    "    _aep[p, r, c] = lse(rho[p, r, c], aep[p, r, c])\n",
    "    _diff[p, r, c] = lse(rho[p, r, c], diff[p, r+3, c+3])\n",
    "    _ml[p, r, c] = lse(rho[p, r, c], ml[p, r, c])"
   ]
  },
  {
   "cell_type": "markdown",
   "id": "94ca52fa",
   "metadata": {},
   "source": [
    "# Figure"
   ]
  },
  {
   "cell_type": "markdown",
   "id": "6054f55e",
   "metadata": {},
   "source": [
    "We group the error data and its names :"
   ]
  },
  {
   "cell_type": "code",
   "execution_count": 17,
   "id": "655bcdca",
   "metadata": {},
   "outputs": [],
   "source": [
    "errors = (_null, _ae, _aek, _aep, _diff, _ml)\n",
    "names = (\"null model\", r\"$\\alpha$ $\\epsilon$ model\", r\"$\\alpha$ $\\epsilon_k$ model\", r\"$\\alpha$ $\\epsilon_k$ $s$ model\", \"diffusion model\", \"random forest model\")"
   ]
  },
  {
   "cell_type": "markdown",
   "id": "f131f0ec",
   "metadata": {},
   "source": [
    "Change the variable `p` in order to generate the figure for other plates"
   ]
  },
  {
   "cell_type": "code",
   "execution_count": 18,
   "id": "998e3582",
   "metadata": {},
   "outputs": [
    {
     "data": {
      "image/png": "[encoded data removed]",
      "text/plain": [
       "<Figure size 3200x400 with 7 Axes>"
      ]
     },
     "metadata": {},
     "output_type": "display_data"
    }
   ],
   "source": [
    "fig, axes = plt.subplots(ncols = len(errors), figsize = (32, 4), gridspec_kw = { \"width_ratios\": [1, 1, 1, 1, 1, 1.2] })\n",
    "\n",
    "p = 0\n",
    "\n",
    "_max = max( err[p].max() for err in errors )\n",
    "cmap = sns.color_palette(\"mako_r\", as_cmap = True)\n",
    "for i, (err, ax) in enumerate(zip(errors, axes)):\n",
    "    sns.heatmap(err[p], ax = ax, cmap = cmap, vmax = _max, cbar = (i == len(errors)-1))\n",
    "    xticks = [0] + list(range(9, n_columns, 10)) + [n_columns-1]\n",
    "    yticks = [0] + list(range(9, n_rows, 10)) + [n_rows-1]\n",
    "    ax.set_xticks(xticks, np.array(xticks) + 1)\n",
    "    ax.set_yticks(yticks, np.array(yticks) + 1)\n",
    "    if p == 0:\n",
    "        ax.set_title(names[i], fontsize = fontsize+2)\n",
    "    ax.set_ylabel(\"row\", fontsize = fontsize)\n",
    "    ax.set_xlabel(\"column\", fontsize = fontsize)\n",
    "\n",
    "axes[-1].collections[0].colorbar.ax.tick_params(labelsize = fontsize)\n",
    "\n",
    "fig.savefig(f\"plots/figure-s2/spatial_plate-{p+1}.pdf\", bbox_inches = \"tight\")\n",
    "fig.savefig(f\"plots/figure-s2/spatial_plate-{p+1}.png\", bbox_inches = \"tight\")"
   ]
  }
 ],
 "metadata": {
  "kernelspec": {
   "display_name": "Python 3 (ipykernel)",
   "language": "python",
   "name": "python3"
  },
  "language_info": {
   "codemirror_mode": {
    "name": "ipython",
    "version": 3
   },
   "file_extension": ".py",
   "mimetype": "text/x-python",
   "name": "python",
   "nbconvert_exporter": "python",
   "pygments_lexer": "ipython3",
   "version": "3.11.8"
  }
 },
 "nbformat": 4,
 "nbformat_minor": 5
}
