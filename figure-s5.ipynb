{
 "cells": [
  {
   "cell_type": "code",
   "execution_count": null,
   "id": "c3b08b66",
   "metadata": {},
   "outputs": [],
   "source": [
    "import numpy as np\n",
    "import pandas as pd"
   ]
  },
  {
   "cell_type": "code",
   "execution_count": null,
   "id": "e280a214",
   "metadata": {},
   "outputs": [],
   "source": [
    "from matplotlib import pyplot as plt\n",
    "import seaborn as sns"
   ]
  },
  {
   "cell_type": "code",
   "execution_count": null,
   "id": "26c11fce",
   "metadata": {},
   "outputs": [],
   "source": [
    "from sklearn.ensemble import RandomForestRegressor"
   ]
  },
  {
   "cell_type": "code",
   "execution_count": null,
   "id": "2b935053",
   "metadata": {},
   "outputs": [],
   "source": [
    "fontsize = 14"
   ]
  },
  {
   "cell_type": "markdown",
   "id": "49f0f85a",
   "metadata": {},
   "source": [
    "# Loading the data sets"
   ]
  },
  {
   "cell_type": "markdown",
   "id": "f4e59a95",
   "metadata": {},
   "source": [
    "We load two synthetic data sets, which both are generated assuming one uniform $\\alpha(t)$ function for _all_ growth curves : one which is populated as normal (grid of 32 x 48 per plate) and one where the populations are decreased by 1/4th (only every 4th position is occupied) :"
   ]
  },
  {
   "cell_type": "code",
   "execution_count": null,
   "id": "f877d637",
   "metadata": {},
   "outputs": [],
   "source": [
    "Nt = np.moveaxis(np.load(\"mean-ci_full-data.npy\"), 1, 3)\n",
    "Nt4 = np.moveaxis(np.load(\"mean-ci_1-fourth-data.npy\"), 1, 3)"
   ]
  },
  {
   "cell_type": "markdown",
   "id": "fd4e1efb",
   "metadata": {},
   "source": [
    "Let's calculate the relative growth rates $\\rho_i(t) = \\frac{\\Delta N_i}{\\Delta t}(t) \\times \\frac{1}{N_i}(t)$ :"
   ]
  },
  {
   "cell_type": "code",
   "execution_count": null,
   "id": "b1301db3",
   "metadata": {},
   "outputs": [],
   "source": [
    "rho = (Nt[..., 1:] - Nt[..., :-1]) / Nt[..., :-1]\n",
    "rho4 = (Nt4[..., 1:] - Nt4[..., :-1]) / Nt4[..., :-1]"
   ]
  },
  {
   "cell_type": "markdown",
   "id": "42b2a412",
   "metadata": {},
   "source": [
    "Now let's make two data frames containing all the information we need, starting with the one for the full data :"
   ]
  },
  {
   "cell_type": "code",
   "execution_count": null,
   "id": "ed4d801b",
   "metadata": {},
   "outputs": [],
   "source": [
    "factors = pd.MultiIndex.from_product((np.arange(4), np.arange(415), np.arange(32), np.arange(48)), names = (\"plate\", \"\", \"row\", \"column\")).to_frame()\n",
    "factors.index = pd.MultiIndex.from_frame(factors)"
   ]
  },
  {
   "cell_type": "markdown",
   "id": "f01e84ba",
   "metadata": {},
   "source": [
    "Let's get for every position if it's a bottom-right of a subsets lattice, and which layer it is part of :"
   ]
  },
  {
   "cell_type": "code",
   "execution_count": null,
   "id": "3d9cacb5",
   "metadata": {},
   "outputs": [],
   "source": [
    "factors[\"fourth\"] = (factors[\"row\"] % 2 == 1) & (factors[\"column\"] % 2 == 1)\n",
    "factors[\"layer\"] = pd.concat((factors[\"row\"], factors[\"column\"], 32-1-factors[\"row\"], 48-1-factors[\"column\"]), axis = \"columns\").min(axis = \"columns\")"
   ]
  },
  {
   "cell_type": "markdown",
   "id": "7aaad1b4",
   "metadata": {},
   "source": [
    "This part of the metadata is the same for both data frames, so let's create the one for 1/4th of the populations :"
   ]
  },
  {
   "cell_type": "code",
   "execution_count": null,
   "id": "d11be557",
   "metadata": {},
   "outputs": [],
   "source": [
    "factors4 = factors.copy()"
   ]
  },
  {
   "cell_type": "markdown",
   "id": "862bea39",
   "metadata": {},
   "source": [
    "We use every 4th position as test set ; for the data containing only 1/4th of the populations, we need to adapt this further :"
   ]
  },
  {
   "cell_type": "code",
   "execution_count": null,
   "id": "d7ca7a2e",
   "metadata": {},
   "outputs": [],
   "source": [
    "factors[\"test\"] = factors[\"fourth\"]\n",
    "factors[\"train\"] = (factors[\"test\"] != True)\n",
    "\n",
    "factors4[\"test\"] = (factors4[\"row\"] % 4 == 3) & (factors4[\"column\"] % 4 == 3)\n",
    "factors4[\"train\"] = (factors4[\"test\"] != True)"
   ]
  },
  {
   "cell_type": "markdown",
   "id": "770de6e8",
   "metadata": {},
   "source": [
    "Finally we populate the data frames :"
   ]
  },
  {
   "cell_type": "code",
   "execution_count": null,
   "id": "7437974a",
   "metadata": {},
   "outputs": [],
   "source": [
    "factors[\"N(t)\"] = np.moveaxis(Nt[..., :-1], 3, 1).reshape(-1)\n",
    "factors[\"rho(t)\"] = np.moveaxis(rho, 3, 1).reshape(-1)\n",
    "\n",
    "factors4[\"N(t)\"] = np.moveaxis(Nt4[..., :-1], 3, 1).reshape(-1)\n",
    "factors4[\"rho(t)\"] = np.moveaxis(rho4, 3, 1).reshape(-1)"
   ]
  },
  {
   "cell_type": "markdown",
   "id": "1ced1d97",
   "metadata": {},
   "source": [
    "And we keep in factors4 only the data points in every 4th position :"
   ]
  },
  {
   "cell_type": "code",
   "execution_count": null,
   "id": "b0487348",
   "metadata": {},
   "outputs": [],
   "source": [
    "factors4 = factors4[factors4[\"fourth\"]]"
   ]
  },
  {
   "cell_type": "markdown",
   "id": "a931334b",
   "metadata": {},
   "source": [
    "# Regressions"
   ]
  },
  {
   "cell_type": "markdown",
   "id": "f5fa39b3",
   "metadata": {},
   "source": [
    "Next we apply regression models $x_i, N_i(t) \\mapsto \\rho_i(t)$ for every time point :"
   ]
  },
  {
   "cell_type": "markdown",
   "id": "188df7db",
   "metadata": {},
   "source": [
    "### Full population plates"
   ]
  },
  {
   "cell_type": "code",
   "execution_count": null,
   "id": "764f1ff5",
   "metadata": {},
   "outputs": [],
   "source": [
    "scores = pd.DataFrame(index = pd.MultiIndex.from_product((np.arange(4), (\"train\", \"test\")), names = (\"plate\", \"t\")), columns = np.arange(415))\n",
    "importances = pd.DataFrame(index = pd.MultiIndex.from_product((np.arange(4), (\"row\", \"column\", \"N(t)\")), names = (\"plate\", \"factor\")), columns = np.arange(415))"
   ]
  },
  {
   "cell_type": "code",
   "execution_count": null,
   "id": "b713def9",
   "metadata": {},
   "outputs": [],
   "source": [
    "for p in range(4):\n",
    "    for t in range(415):\n",
    "        train, test = factors[factors[\"train\"]].loc[(p, t)], factors[factors[\"test\"]].loc[(p, t)]\n",
    "        \n",
    "        m = RandomForestRegressor().fit(train[[\"row\", \"column\", \"N(t)\"]], train[\"rho(t)\"])\n",
    "        scores.loc[(p, \"train\"), t] = m.score(train[[\"row\", \"column\", \"N(t)\"]], train[\"rho(t)\"])\n",
    "        scores.loc[(p, \"test\"), t] = m.score(test[[\"row\", \"column\", \"N(t)\"]], test[\"rho(t)\"])\n",
    "        importances.loc[p, t] = m.feature_importances_"
   ]
  },
  {
   "cell_type": "markdown",
   "id": "f6f6dbac",
   "metadata": {},
   "source": [
    "### Every 4th position plates"
   ]
  },
  {
   "cell_type": "code",
   "execution_count": null,
   "id": "ada70dc6",
   "metadata": {},
   "outputs": [],
   "source": [
    "scores4 = scores.copy()\n",
    "importances4 = importances.copy()"
   ]
  },
  {
   "cell_type": "code",
   "execution_count": null,
   "id": "8b15cfcb",
   "metadata": {},
   "outputs": [],
   "source": [
    "for p in range(4):\n",
    "    for t in range(415):\n",
    "        train, test = factors4[factors4[\"train\"]].loc[(p, t)], factors4[factors4[\"test\"]].loc[(p, t)]\n",
    "        \n",
    "        m = RandomForestRegressor().fit(train[[\"row\", \"column\", \"N(t)\"]], train[\"rho(t)\"])\n",
    "        scores4.loc[(p, \"train\"), t] = m.score(train[[\"row\", \"column\", \"N(t)\"]], train[\"rho(t)\"])\n",
    "        scores4.loc[(p, \"test\"), t] = m.score(test[[\"row\", \"column\", \"N(t)\"]], test[\"rho(t)\"])\n",
    "        importances4.loc[p, t] = m.feature_importances_"
   ]
  },
  {
   "cell_type": "markdown",
   "id": "1f81b05a",
   "metadata": {},
   "source": [
    "# Figures"
   ]
  },
  {
   "cell_type": "code",
   "execution_count": null,
   "id": "e4199498",
   "metadata": {},
   "outputs": [],
   "source": [
    "names = (\"Gal + NaCl\", \"Glc\", \"Glc + NaCl\", \"Gal\")"
   ]
  },
  {
   "cell_type": "markdown",
   "id": "9374ef5e",
   "metadata": {},
   "source": [
    "### Full population plates"
   ]
  },
  {
   "cell_type": "code",
   "execution_count": null,
   "id": "2fcec1ce",
   "metadata": {},
   "outputs": [],
   "source": [
    "fig, axes = plt.subplots(ncols = 4, figsize = (16, 3.5))\n",
    "\n",
    "for p in range(4):\n",
    "    ts = np.arange(415)\n",
    "    axes[p].plot(scores.loc[(p, \"train\")], color = \"black\", linestyle = \":\", label = \"train\")\n",
    "    sts = scores.loc[(p, \"test\")]\n",
    "    axes[p].plot(sts, color = \"black\", label = \"test\")\n",
    "    \n",
    "    a = importances.loc[(p, \"N(t)\")]\n",
    "    axes[p].fill_between(x = ts, y1 = 0, y2 = list(sts * (1-a)), color = \"tab:blue\", label = \"location\")\n",
    "    axes[p].fill_between(x = ts, y1 = list(sts * (1-a)), y2 = list(sts), color = \"tab:orange\", label = \"$N_i(t)$\")\n",
    "    axes[p].set_ylim(0, 1.05)\n",
    "    \n",
    "    axes[p].set_xlabel(\"time (h)\", fontsize = fontsize)\n",
    "    axes[p].set_xticks([0, 72, 144, 216, 288, 360, 432], labels = [0, 24, 48, 72, 96, 120, 144])\n",
    "    axes[p].set_xlim(-5, 218)\n",
    "    \n",
    "    axes[p].set_title(names[p], fontsize = fontsize)\n",
    "    axes[p].grid()\n",
    "\n",
    "    axes[0].set_ylabel(\"$R^2$ x importance\", fontsize = fontsize)\n",
    "axes[3].legend(loc = \"lower right\")\n",
    "\n",
    "fig.savefig(f\"plots/figure-s5/ml-full.pdf\", bbox_inches = \"tight\")\n",
    "fig.savefig(f\"plots/figure-s5/ml-full.png\", bbox_inches = \"tight\");"
   ]
  },
  {
   "cell_type": "markdown",
   "id": "d9bbe9e4",
   "metadata": {},
   "source": [
    "### Every 4th position plates"
   ]
  },
  {
   "cell_type": "code",
   "execution_count": null,
   "id": "49ae7432",
   "metadata": {},
   "outputs": [],
   "source": [
    "fig, axes = plt.subplots(ncols = 4, figsize = (16, 3.5))\n",
    "\n",
    "for p in range(4):\n",
    "    ts = np.arange(415)\n",
    "    axes[p].plot(scores4.loc[(p, \"train\")], color = \"black\", linestyle = \":\", label = \"train\")\n",
    "    sts = scores4.loc[(p, \"test\")]\n",
    "    axes[p].plot(sts, color = \"black\", label = \"test\")\n",
    "    \n",
    "    a = importances4.loc[(p, \"N(t)\")]\n",
    "    axes[p].fill_between(x = ts, y1 = 0, y2 = list(sts * (1-a)), color = \"tab:blue\", label = \"location\")\n",
    "    axes[p].fill_between(x = ts, y1 = list(sts * (1-a)), y2 = list(sts), color = \"tab:orange\", label = \"$N_i(t)$\")\n",
    "    axes[p].set_ylim(0, 1.05)\n",
    "    \n",
    "    axes[p].set_xlabel(\"time (h)\", fontsize = fontsize)\n",
    "    axes[p].set_xticks([0, 72, 144, 216, 288, 360, 432], labels = [0, 24, 48, 72, 96, 120, 144])\n",
    "    axes[p].set_xlim(-5, 218)\n",
    "    \n",
    "    axes[p].set_title(names[p], fontsize = fontsize)\n",
    "    axes[p].grid()\n",
    "\n",
    "    axes[0].set_ylabel(\"$R^2$ x importance\", fontsize = fontsize)\n",
    "axes[3].legend(loc = \"lower right\")\n",
    "\n",
    "fig.savefig(f\"plots/figure-s5/ml-4th.pdf\", bbox_inches = \"tight\")\n",
    "fig.savefig(f\"plots/figure-s5/ml-4th.png\", bbox_inches = \"tight\");"
   ]
  }
 ],
 "metadata": {
  "kernelspec": {
   "display_name": "Python 3 (ipykernel)",
   "language": "python",
   "name": "python3"
  },
  "language_info": {
   "codemirror_mode": {
    "name": "ipython",
    "version": 3
   },
   "file_extension": ".py",
   "mimetype": "text/x-python",
   "name": "python",
   "nbconvert_exporter": "python",
   "pygments_lexer": "ipython3",
   "version": "3.11.8"
  }
 },
 "nbformat": 4,
 "nbformat_minor": 5
}
