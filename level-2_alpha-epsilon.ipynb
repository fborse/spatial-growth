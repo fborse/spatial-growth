{
 "cells": [
  {
   "cell_type": "code",
   "execution_count": null,
   "id": "dd452f3f",
   "metadata": {},
   "outputs": [],
   "source": [
    "import numpy as np\n",
    "import pandas as pd"
   ]
  },
  {
   "cell_type": "code",
   "execution_count": null,
   "id": "da8100ba",
   "metadata": {},
   "outputs": [],
   "source": [
    "from scipy.optimize import curve_fit"
   ]
  },
  {
   "cell_type": "code",
   "execution_count": null,
   "id": "4a055d76",
   "metadata": {},
   "outputs": [],
   "source": [
    "from itertools import product"
   ]
  },
  {
   "cell_type": "code",
   "execution_count": null,
   "id": "682210fc",
   "metadata": {},
   "outputs": [],
   "source": [
    "from commons import smoothen, lse"
   ]
  },
  {
   "cell_type": "code",
   "execution_count": null,
   "id": "684357c3",
   "metadata": {},
   "outputs": [],
   "source": [
    "n_iterations = 20"
   ]
  },
  {
   "cell_type": "markdown",
   "id": "18f98026",
   "metadata": {},
   "source": [
    "# Preparations"
   ]
  },
  {
   "cell_type": "markdown",
   "id": "a1e56e24",
   "metadata": {},
   "source": [
    "## Loading the data"
   ]
  },
  {
   "cell_type": "markdown",
   "id": "227357a9",
   "metadata": {},
   "source": [
    "We start by loading the $N_i(t)$, while smoothening them :"
   ]
  },
  {
   "cell_type": "code",
   "execution_count": null,
   "id": "dda6e891",
   "metadata": {},
   "outputs": [],
   "source": [
    "Nt = smoothen(np.load(\"curves_raw.npy\"), 10)"
   ]
  },
  {
   "cell_type": "markdown",
   "id": "7ffa83ee",
   "metadata": {},
   "source": [
    "Let's also calculate already the derivatives $\\frac{\\Delta N_i(t)}{\\Delta t} = \\Delta N_i(t) = N_i(t+1) - N_i(t)$"
   ]
  },
  {
   "cell_type": "code",
   "execution_count": null,
   "id": "93b3e71e",
   "metadata": {},
   "outputs": [],
   "source": [
    "dNdt = Nt[..., 1:] - Nt[..., :-1]"
   ]
  },
  {
   "cell_type": "markdown",
   "id": "e88ec43e",
   "metadata": {},
   "source": [
    "and $\\rho_i(t) = \\frac{\\Delta N_i(t)}{N_i(t)}$"
   ]
  },
  {
   "cell_type": "code",
   "execution_count": null,
   "id": "245ba7e5",
   "metadata": {},
   "outputs": [],
   "source": [
    "rho = dNdt / Nt[..., :-1]"
   ]
  },
  {
   "cell_type": "markdown",
   "id": "80ca47ab",
   "metadata": {},
   "source": [
    "Let's get the number of points consistent between $N_i(t)$ and the derivatives :"
   ]
  },
  {
   "cell_type": "code",
   "execution_count": null,
   "id": "464172da",
   "metadata": {},
   "outputs": [],
   "source": [
    "Nt = Nt[..., :-1]"
   ]
  },
  {
   "cell_type": "markdown",
   "id": "1d000f48",
   "metadata": {},
   "source": [
    "## Dimensions"
   ]
  },
  {
   "cell_type": "markdown",
   "id": "628d4183",
   "metadata": {},
   "source": [
    "We also get the dimensions "
   ]
  },
  {
   "cell_type": "code",
   "execution_count": null,
   "id": "bc9559ba",
   "metadata": {},
   "outputs": [],
   "source": [
    "n_plates, n_rows, n_columns, n_points = Nt.shape\n",
    "plates, rows, columns, points = map(np.arange, Nt.shape)"
   ]
  },
  {
   "cell_type": "markdown",
   "id": "f4d0a1b0",
   "metadata": {},
   "source": [
    "## Initial $\\alpha_i(t)$ parameter values"
   ]
  },
  {
   "cell_type": "markdown",
   "id": "008f0e06",
   "metadata": {},
   "source": [
    "The population-specific $\\rho_i(t) = \\alpha_i(t) \\; \\epsilon(t)$ model requires us to provide $\\alpha_i(t)$ values, which we load here.\n",
    "To get the time dimensionality consistent with the $\\rho_i(t)$, we remove its last time point :"
   ]
  },
  {
   "cell_type": "code",
   "execution_count": null,
   "id": "b8ab01be",
   "metadata": {},
   "outputs": [],
   "source": [
    "alpha = np.load(\"alpha/computed.npy\")[..., :-10]"
   ]
  },
  {
   "cell_type": "markdown",
   "id": "310178bf",
   "metadata": {},
   "source": [
    "As we will recompute these values iteratively, along with the parameters that lead for those values, so here are some initial parameter values :"
   ]
  },
  {
   "cell_type": "code",
   "execution_count": null,
   "id": "4629ad87",
   "metadata": {},
   "outputs": [],
   "source": [
    "alphas = pd.read_csv(\"alpha/params.csv\")\n",
    "alphas.index = pd.MultiIndex.from_frame(alphas[[\"plate\", \"row\", \"column\"]])\n",
    "alphas = alphas[[\"r0 i\", \"m i\", \"c i\"]]"
   ]
  },
  {
   "cell_type": "markdown",
   "id": "5eaf541b",
   "metadata": {},
   "source": [
    "The $r_0$ and $m$ parameters are global"
   ]
  },
  {
   "cell_type": "code",
   "execution_count": null,
   "id": "1fa21018",
   "metadata": {},
   "outputs": [],
   "source": [
    "r0_m = pd.DataFrame(index = pd.Index(plates, name = \"plate\"))\n",
    "\n",
    "r0_m[\"r0\"] = alphas[\"r0 i\"].unique()\n",
    "r0_m[\"m\"] = alphas[\"m i\"].unique()"
   ]
  },
  {
   "cell_type": "markdown",
   "id": "0cc09d1c",
   "metadata": {},
   "source": [
    "while the $c_i$ parameters are population-specific"
   ]
  },
  {
   "cell_type": "code",
   "execution_count": null,
   "id": "b6a9c243",
   "metadata": {},
   "outputs": [],
   "source": [
    "c_i = alphas[\"c i\"]\n",
    "c_i.index = alphas.index"
   ]
  },
  {
   "cell_type": "markdown",
   "id": "a916e90f",
   "metadata": {},
   "source": [
    "# $\\hat\\rho_i(t) = \\alpha_i(t) \\; \\epsilon(t)$"
   ]
  },
  {
   "cell_type": "markdown",
   "id": "b58f7c9c",
   "metadata": {},
   "source": [
    "The general idea with this model is that we find a value for $\\epsilon(t)$ for every $t$.\n",
    "Then, if we recompute new optimal parameters for $\\alpha_i(t)$, and then for $\\epsilon(t)$ again, we obtain an iterative process :"
   ]
  },
  {
   "cell_type": "code",
   "execution_count": null,
   "id": "07b61dee",
   "metadata": {},
   "outputs": [],
   "source": [
    "epsilon = pd.DataFrame(\n",
    "    data    = np.empty((n_points, n_plates)),\n",
    "    index   = pd.Index(points, name = \"time point\"),\n",
    "    columns = pd.Index(plates, name = \"plate\")\n",
    ")"
   ]
  },
  {
   "cell_type": "code",
   "execution_count": null,
   "id": "f0e29dcb",
   "metadata": {},
   "outputs": [],
   "source": [
    "def fit_new_epsilons():\n",
    "    global previous_epsilon\n",
    "    previous_epsilon = epsilon.copy()\n",
    "    \n",
    "    discard = 42\n",
    "    for p in plates:\n",
    "        epsilon.loc[0, p] = curve_fit(\n",
    "            f     = lambda _, e: alpha[p, ..., 0].reshape(-1) * e,\n",
    "            xdata = discard,\n",
    "            ydata = rho[p, ..., 0].reshape(-1)\n",
    "        )[0]\n",
    "\n",
    "        for t in points[1:]:\n",
    "            epsilon.loc[t, p] = curve_fit(\n",
    "                f     = lambda _, e: alpha[p, ..., t].reshape(-1) * e,\n",
    "                xdata = discard,\n",
    "                ydata = rho[p, ..., t].reshape(-1),\n",
    "                p0    = epsilon.loc[t-1, p]\n",
    "            )[0]\n",
    "\n",
    "def fit_r0_m(fn):\n",
    "    global r0_m\n",
    "    ts = np.tile(points, n_rows * n_columns)\n",
    "    \n",
    "    for p in plates:\n",
    "        ci = alphas.loc[p, \"c i\"].values.repeat(208)\n",
    "        \n",
    "        r0_m.loc[p] = curve_fit(\n",
    "            f     = lambda t, r0, m:\n",
    "                r0 * ci / (ci + np.exp(-m * t)) * fn(p),\n",
    "            xdata = ts,\n",
    "            ydata = rho[p].reshape(-1)\n",
    "        )[0]\n",
    "\n",
    "def fit_ci(fn):\n",
    "    global c_i\n",
    "    \n",
    "    for p in plates:\n",
    "        r0, m = r0_m.loc[p]\n",
    "        \n",
    "        for r, c in product(rows, columns):\n",
    "            c_i[p, r, c] = curve_fit(\n",
    "                f      = lambda t, ci:\n",
    "                    r0 * ci / (ci + np.exp(-m * t)) * fn(p, r, c),\n",
    "                xdata  = points,\n",
    "                ydata  = rho[p, r, c],\n",
    "                bounds = (0, np.inf)\n",
    "            )[0]\n",
    "\n",
    "def update_alpha():\n",
    "    global alpha, previous_alphas, previous_alpha\n",
    "    \n",
    "    previous_alphas = alphas.copy()\n",
    "    alphas.loc[:, \"r0 i\"] = list(r0_m[\"r0\"].repeat(n_rows * n_columns))\n",
    "    alphas.loc[:, \"m i\"] = list(r0_m[\"m\"].repeat(n_rows * n_columns))\n",
    "    alphas.loc[:, \"c i\"] = list(c_i)\n",
    "    \n",
    "    previous_alpha = alpha.copy()\n",
    "    for idx in product(plates, rows, columns):\n",
    "        r0, mi, ci = alphas.loc[idx]\n",
    "        alpha[idx] = r0 * ci / (ci + np.exp(-mi * points))\n",
    "\n",
    "def refit_alphas(r0m_fn, ci_fn):\n",
    "    fit_r0_m(r0m_fn)\n",
    "    fit_ci(ci_fn)\n",
    "    update_alpha()"
   ]
  },
  {
   "cell_type": "code",
   "execution_count": null,
   "id": "9ea99f75",
   "metadata": {},
   "outputs": [],
   "source": [
    "previous_score = np.inf\n",
    "for it in range(n_iterations):\n",
    "    print(f\"iteration {it+1}\")\n",
    "    \n",
    "    fit_new_epsilons()\n",
    "    refit_alphas(\n",
    "        r0m_fn = lambda p: np.tile(epsilon[p], n_rows * n_columns),\n",
    "        ci_fn = lambda p, r, c: epsilon[p]\n",
    "    )\n",
    "    \n",
    "    predictions = np.empty_like(rho)\n",
    "    for p, t in product(plates, points):\n",
    "        predictions[p, ..., t] = alpha[p, ..., t] * epsilon.loc[t, p]\n",
    "        \n",
    "    current_score = lse(predictions.reshape(-1), rho.reshape(-1))\n",
    "    \n",
    "    if current_score < previous_score:\n",
    "        previous_score = current_score\n",
    "    else:\n",
    "        alphas = previous_alphas\n",
    "        alpha = previous_alpha\n",
    "        epsilon = previous_epsilon\n",
    "        break"
   ]
  },
  {
   "cell_type": "markdown",
   "id": "ba19384e",
   "metadata": {},
   "source": [
    "We only need to save the predicted $\\hat \\rho_i(t)$ :"
   ]
  },
  {
   "cell_type": "code",
   "execution_count": null,
   "id": "b2adc615",
   "metadata": {},
   "outputs": [],
   "source": [
    "predictions = np.empty_like(rho)\n",
    "\n",
    "for p, t in product(plates, points):\n",
    "    predictions[p, ..., t] = alpha[p, ..., t] * epsilon.loc[t, p]"
   ]
  },
  {
   "cell_type": "code",
   "execution_count": null,
   "id": "2e3d1472",
   "metadata": {},
   "outputs": [],
   "source": [
    "np.save(\"predictions/level-2_alpha-epsilon.npy\", predictions)"
   ]
  }
 ],
 "metadata": {
  "kernelspec": {
   "display_name": "Python 3 (ipykernel)",
   "language": "python",
   "name": "python3"
  },
  "language_info": {
   "codemirror_mode": {
    "name": "ipython",
    "version": 3
   },
   "file_extension": ".py",
   "mimetype": "text/x-python",
   "name": "python",
   "nbconvert_exporter": "python",
   "pygments_lexer": "ipython3",
   "version": "3.11.8"
  }
 },
 "nbformat": 4,
 "nbformat_minor": 5
}
