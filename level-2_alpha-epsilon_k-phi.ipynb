{
 "cells": [
  {
   "cell_type": "code",
   "execution_count": null,
   "id": "99df9693",
   "metadata": {},
   "outputs": [],
   "source": [
    "import numpy as np\n",
    "import pandas as pd"
   ]
  },
  {
   "cell_type": "code",
   "execution_count": null,
   "id": "7b9c4bb3",
   "metadata": {},
   "outputs": [],
   "source": [
    "from scipy.optimize import curve_fit"
   ]
  },
  {
   "cell_type": "code",
   "execution_count": null,
   "id": "f838ebd7",
   "metadata": {},
   "outputs": [],
   "source": [
    "from itertools import product"
   ]
  },
  {
   "cell_type": "code",
   "execution_count": null,
   "id": "d001481e",
   "metadata": {},
   "outputs": [],
   "source": [
    "from commons import smoothen, lse"
   ]
  },
  {
   "cell_type": "code",
   "execution_count": null,
   "id": "aa650e08",
   "metadata": {},
   "outputs": [],
   "source": [
    "n_iterations = 20"
   ]
  },
  {
   "cell_type": "markdown",
   "id": "a78947db",
   "metadata": {},
   "source": [
    "# Preparations"
   ]
  },
  {
   "cell_type": "markdown",
   "id": "7222ab31",
   "metadata": {},
   "source": [
    "## Loading the data"
   ]
  },
  {
   "cell_type": "markdown",
   "id": "b39b8ddc",
   "metadata": {},
   "source": [
    "We start by loading the $N_i(t)$, while smoothening them :"
   ]
  },
  {
   "cell_type": "code",
   "execution_count": null,
   "id": "7179f507",
   "metadata": {},
   "outputs": [],
   "source": [
    "Nt = smoothen(np.load(\"curves_raw.npy\"), 10)"
   ]
  },
  {
   "cell_type": "markdown",
   "id": "a7671b08",
   "metadata": {},
   "source": [
    "Let's also calculate already the derivatives $\\frac{\\Delta N_i(t)}{\\Delta t} = \\Delta N_i(t) = N_i(t+1) - N_i(t)$"
   ]
  },
  {
   "cell_type": "code",
   "execution_count": null,
   "id": "7d1ea1d6",
   "metadata": {},
   "outputs": [],
   "source": [
    "dNdt = Nt[..., 1:] - Nt[..., :-1]"
   ]
  },
  {
   "cell_type": "markdown",
   "id": "72826e10",
   "metadata": {},
   "source": [
    "and $\\rho_i(t) = \\frac{\\Delta N_i(t)}{N_i(t)}$"
   ]
  },
  {
   "cell_type": "code",
   "execution_count": null,
   "id": "56502774",
   "metadata": {},
   "outputs": [],
   "source": [
    "rho = dNdt / Nt[..., :-1]"
   ]
  },
  {
   "cell_type": "markdown",
   "id": "3362a566",
   "metadata": {},
   "source": [
    "Let's get the number of points consistent between $N_i(t)$ and the derivatives :"
   ]
  },
  {
   "cell_type": "code",
   "execution_count": null,
   "id": "e0f30e14",
   "metadata": {},
   "outputs": [],
   "source": [
    "Nt = Nt[..., :-1]"
   ]
  },
  {
   "cell_type": "markdown",
   "id": "b688ff26",
   "metadata": {},
   "source": [
    "## Dimensions"
   ]
  },
  {
   "cell_type": "markdown",
   "id": "ca2ff8a5",
   "metadata": {},
   "source": [
    "We also get the dimensions"
   ]
  },
  {
   "cell_type": "code",
   "execution_count": null,
   "id": "4d355aa5",
   "metadata": {},
   "outputs": [],
   "source": [
    "n_plates, n_rows, n_columns, n_points = Nt.shape\n",
    "plates, rows, columns, points = map(np.arange, Nt.shape)"
   ]
  },
  {
   "cell_type": "markdown",
   "id": "0e505d38",
   "metadata": {},
   "source": [
    "## Initial $\\alpha_i(t)$ and $\\epsilon_k(t)$ parameter values"
   ]
  },
  {
   "cell_type": "markdown",
   "id": "33d746da",
   "metadata": {},
   "source": [
    "The density-specific $\\rho_i(t) = \\alpha_i(t) \\; \\epsilon_k(t) \\; \\phi(N_i(t))$ model requires us to provide $\\alpha_i(t)$ and $\\epsilon_k(t)$ values, which we load here :"
   ]
  },
  {
   "cell_type": "code",
   "execution_count": null,
   "id": "58bd834d",
   "metadata": {},
   "outputs": [],
   "source": [
    "alpha = np.load(\"alpha/computed.npy\")[..., :-10]"
   ]
  },
  {
   "cell_type": "code",
   "execution_count": null,
   "id": "fd7b82d0",
   "metadata": {},
   "outputs": [],
   "source": [
    "epsilon = pd.read_csv(\"epsilon/alpha-epsilon_k.csv\")\n",
    "epsilon.index = pd.MultiIndex.from_frame(epsilon[[\"plate\", \"time point\"]])\n",
    "epsilon = epsilon[[ f\"epsilon {k+1}\" for k in range(16) ]]"
   ]
  },
  {
   "cell_type": "markdown",
   "id": "d2ef46aa",
   "metadata": {},
   "source": [
    "As we will recompute these values iteratively, along with the parameters that lead for those values, so here are some initial parameter values :"
   ]
  },
  {
   "cell_type": "code",
   "execution_count": null,
   "id": "79ed0dfa",
   "metadata": {},
   "outputs": [],
   "source": [
    "alphas = pd.read_csv(\"alpha/params.csv\")\n",
    "alphas.index = pd.MultiIndex.from_frame(alphas[[\"plate\", \"row\", \"column\"]])\n",
    "alphas = alphas[[\"r0 i\", \"c i\", \"m i\"]]"
   ]
  },
  {
   "cell_type": "markdown",
   "id": "0eb81d93",
   "metadata": {},
   "source": [
    "The $r_0$ and $m$ parameters are global"
   ]
  },
  {
   "cell_type": "code",
   "execution_count": null,
   "id": "6dcdcf26",
   "metadata": {},
   "outputs": [],
   "source": [
    "r0_m = pd.DataFrame(index = pd.Index(plates, name = \"plate\"))\n",
    "\n",
    "r0_m[\"r0\"] = alphas[\"r0 i\"].unique()\n",
    "r0_m[\"m\"] = alphas[\"m i\"].unique()"
   ]
  },
  {
   "cell_type": "markdown",
   "id": "c822b22c",
   "metadata": {},
   "source": [
    "while the $c_i$ parameters are population-specific"
   ]
  },
  {
   "cell_type": "code",
   "execution_count": null,
   "id": "6d348da3",
   "metadata": {},
   "outputs": [],
   "source": [
    "c_i = alphas[\"c i\"]\n",
    "c_i.index = alphas.index"
   ]
  },
  {
   "cell_type": "markdown",
   "id": "d5cc612b",
   "metadata": {},
   "source": [
    "## Layers"
   ]
  },
  {
   "cell_type": "markdown",
   "id": "94836eab",
   "metadata": {},
   "source": [
    "The $\\epsilon_k(t)$ are organised in $k = 16$ layers, defined as equidistant points compared to their closest grid border.\n",
    "We create here 16 matrices where for each layer the respective coordinates in the grid are set to 1 (0 otherwise) :"
   ]
  },
  {
   "cell_type": "code",
   "execution_count": null,
   "id": "18f6599c",
   "metadata": {},
   "outputs": [],
   "source": [
    "layers = np.zeros((16, n_rows, n_columns))\n",
    "\n",
    "for i in range(16):\n",
    "    layers[i, i, i:n_columns-i] = 1\n",
    "    layers[i, i:n_rows-i, i] = 1\n",
    "    layers[i, n_rows-i-1, i:n_columns-i] = 1\n",
    "    layers[i, i:n_rows-i, n_columns-i-1] = 1"
   ]
  },
  {
   "cell_type": "markdown",
   "id": "c0cc9c74",
   "metadata": {},
   "source": [
    "Convert a coordinate to the corresponding $\\epsilon_k$ :"
   ]
  },
  {
   "cell_type": "code",
   "execution_count": null,
   "id": "e57082b8",
   "metadata": {},
   "outputs": [],
   "source": [
    "c2l = sum( (i+1) * l for i, l in enumerate(layers) ).astype(int)"
   ]
  },
  {
   "cell_type": "markdown",
   "id": "8a15d5ee",
   "metadata": {},
   "source": [
    "# $\\hat\\rho_i(t) = \\alpha_i(t) \\; \\epsilon_k(t) \\; \\phi(N_i(t))$"
   ]
  },
  {
   "cell_type": "markdown",
   "id": "35be3a56",
   "metadata": {},
   "source": [
    "Unlike the $\\hat\\rho_i(t) = \\alpha_i(t) \\; \\epsilon(t)$ and $\\hat\\rho_i(t) = \\alpha_i(t) \\; \\epsilon_k(t)$ models, this model adds nutrient information to the growth ; it thus becomes a system of two differential equations :\n",
    "$$ \\rho_i(t) = \\alpha_i(t) \\; \\epsilon_k(t) \\; \\phi(s(t, x_i)) $$\n",
    "\n",
    "$$ \\dot s = -\\nu \\dot N = -\\nu \\; \\alpha_i(t) \\; \\epsilon_k(t) \\; s(i, x_i) \\; N_i(t) $$\n",
    "\n",
    "Let's solve the second equation as :\n",
    "$$ s(t, x_i) = s_0 e^{-\\int_0^t \\nu \\; \\alpha_i(t') \\; \\epsilon_k(t') \\; N_i(t) \\; dt'} $$\n",
    "\n",
    "We thus obtain the following function :\n",
    "$$ \\rho_i(t, x_i, N_i) = \\alpha_i(t) \\; \\epsilon_i(t) \\; s_0 e^{-\\int_0^t \\nu \\; \\alpha_i(t') \\; \\epsilon_k(t', x_i) \\; N_i(t') \\; dt'} $$"
   ]
  },
  {
   "cell_type": "markdown",
   "id": "f2f894a6",
   "metadata": {},
   "source": [
    "The general idea with this model is thus that we first find a value for $\\epsilon_k(t)$ for every time point $t$ and layer $k$ ; then second, we find a value $\\nu$.\n",
    "Then, if we recompute new optimal parameters for $\\alpha_i(t)$, and then for $\\epsilon_k(t)$ and $\\nu$ again, we obtain an iterative process :"
   ]
  },
  {
   "cell_type": "markdown",
   "id": "ad80ea92",
   "metadata": {},
   "source": [
    "## Initial $\\nu$"
   ]
  },
  {
   "cell_type": "markdown",
   "id": "a4f0bf18",
   "metadata": {},
   "source": [
    "We start by obtaining initial values for the $\\nu$ parameter, as initial $\\alpha_i(t)$ and $\\epsilon_k(t)$ values are already obtained from the $\\hat\\rho_i(t) = \\alpha_i(t) \\; \\epsilon_k(t)$ model, which corresponds to the case where $\\nu = 0$ :"
   ]
  },
  {
   "cell_type": "code",
   "execution_count": null,
   "id": "fc7bfa69",
   "metadata": {},
   "outputs": [],
   "source": [
    "nus = pd.DataFrame(\n",
    "    data    = np.empty((n_plates, 1)),\n",
    "    columns = [\"nu\"],\n",
    "    index   = pd.Index(plates, name = \"plate\")\n",
    ")"
   ]
  },
  {
   "cell_type": "code",
   "execution_count": null,
   "id": "cff3b94e",
   "metadata": {},
   "outputs": [],
   "source": [
    "for p in plates:\n",
    "    integral = -(\n",
    "            alpha[p].reshape((-1, n_points))\n",
    "        *   epsilon.loc[p].dot(layers.reshape((16, -1))).T.values\n",
    "        *   Nt[p].reshape((-1, n_points))\n",
    "    ).cumsum(axis = 1)\n",
    "    \n",
    "    nus.loc[p] = curve_fit(\n",
    "        f     = lambda _, nu:\n",
    "                    (\n",
    "                        alpha[p].reshape((-1, n_points))\n",
    "                    *   epsilon.loc[p].dot(layers.reshape((16, -1))).T.values\n",
    "                    *   np.exp(nu * integral)\n",
    "                    ).reshape(-1),\n",
    "        xdata = None,\n",
    "        ydata = rho[p].reshape(-1),\n",
    "        p0    = 1e-6\n",
    "    )[0]"
   ]
  },
  {
   "cell_type": "markdown",
   "id": "2264c5c3",
   "metadata": {},
   "source": [
    "## Full model"
   ]
  },
  {
   "cell_type": "markdown",
   "id": "a8237ed4",
   "metadata": {},
   "source": [
    "We then perform the iteration 20 times (or less, if we reached some local minimum) :"
   ]
  },
  {
   "cell_type": "code",
   "execution_count": null,
   "id": "15f61029",
   "metadata": {},
   "outputs": [],
   "source": [
    "previous_score = np.inf\n",
    "for it in range(1, n_iterations+1):\n",
    "    print(\"iteration\", it)\n",
    "    _epsilon = epsilon.copy()\n",
    "\n",
    "    print(\"\\tepsilon\")\n",
    "    previous_epsilon = epsilon.copy()\n",
    "    for p in plates:\n",
    "        t = 0\n",
    "        integral = np.exp(-(\n",
    "                nus.loc[p, \"nu\"]\n",
    "                *   alpha[p].reshape((-1, n_points))\n",
    "                *   epsilon.loc[p].dot(layers.reshape((16, -1))).T.values\n",
    "                *   Nt[p].reshape((-1, n_points))\n",
    "            ).cumsum(axis = 1))\n",
    "\n",
    "        _epsilon.loc[p, t] = curve_fit(\n",
    "            f     = lambda _, e1, e2, e3, e4, e5, e6, e7, e8, e9, e10, e11, e12, e13, e14, e15, e16:\n",
    "                        (\n",
    "                            alpha[p, ..., t].reshape(-1)\n",
    "                        *   np.array([e1, e2, e3, e4, e5, e6, e7, e8, e9, e10, e11, e12, e13, e14, e15, e16]).dot(layers.reshape((16, -1)))\n",
    "                        *   integral[:, t]\n",
    "                        ).reshape(-1),\n",
    "            xdata = None,\n",
    "            ydata = rho[p, ..., t].reshape(-1),\n",
    "            p0    = epsilon.loc[p, t]\n",
    "        )[0]\n",
    "\n",
    "        for t in points[1:]:\n",
    "            _epsilon.loc[p, t] = curve_fit(\n",
    "                f     = lambda _, e1, e2, e3, e4, e5, e6, e7, e8, e9, e10, e11, e12, e13, e14, e15, e16:\n",
    "                            (\n",
    "                                alpha[p, ..., t].reshape(-1)\n",
    "                            *   np.array([e1, e2, e3, e4, e5, e6, e7, e8, e9, e10, e11, e12, e13, e14, e15, e16]).dot(layers.reshape((16, -1)))\n",
    "                            *   integral[:, t]\n",
    "                            ).reshape(-1),\n",
    "                xdata = None,\n",
    "                ydata = rho[p, ..., t].reshape(-1),\n",
    "                p0    = epsilon.loc[p, t]\n",
    "            )[0]\n",
    "\n",
    "        epsilon = _epsilon\n",
    "\n",
    "    print(\"\\tnu\")\n",
    "    previous_nus = nus.copy()\n",
    "    for p in plates:\n",
    "        integral = -(\n",
    "                alpha[p].reshape((-1, n_points))\n",
    "            *   epsilon.loc[p].dot(layers.reshape((16, -1))).T.values\n",
    "            *   Nt[p].reshape((-1, n_points))\n",
    "            ).cumsum(axis = 1)\n",
    "\n",
    "        nus.loc[p] = curve_fit(\n",
    "            f     = lambda _, nu:\n",
    "                        (\n",
    "                            alpha[p].reshape((-1, n_points))\n",
    "                            *   epsilon.loc[p].dot(layers.reshape((16, -1))).T.values\n",
    "                            *   np.exp(nu * integral)\n",
    "                        ).reshape(-1),\n",
    "            xdata = None,\n",
    "            ydata = rho[p].reshape(-1),\n",
    "            p0    = 1e-6\n",
    "        )[0]\n",
    "    \n",
    "    print(\"\\tr 0 & m\")\n",
    "    ts = np.tile(points, n_rows * n_columns)\n",
    "    for p in plates:\n",
    "        integral = np.exp(-(\n",
    "                nus.loc[p, \"nu\"]\n",
    "                *   alpha[p].reshape((-1, n_points))\n",
    "                *   epsilon.loc[p].dot(layers.reshape((16, -1))).T.values\n",
    "                *   Nt[p].reshape((-1, n_points))\n",
    "            ).cumsum(axis = 1))\n",
    "        \n",
    "        ci = alphas.loc[p, \"c i\"].values.repeat(n_points)\n",
    "        r0_m.loc[p] = curve_fit(\n",
    "            f     = lambda _, r0, m:\n",
    "                r0 * ci / (ci + np.exp(-m * ts)) * (epsilon.loc[p].dot(layers.reshape((16, -1))).T.values * integral).reshape(-1),\n",
    "            xdata = 80085,\n",
    "            ydata = rho[p].reshape(-1)\n",
    "        )[0]\n",
    "    \n",
    "    print(\"\\tc i\")\n",
    "    for p in plates:\n",
    "        r0, m = r0_m.loc[p]\n",
    "        for r, c in product(rows, columns):\n",
    "            idx = (p, r, c)\n",
    "            integral = np.exp(-nus.loc[p, \"nu\"] * alpha[idx] * epsilon.loc[p, f\"epsilon {c2l[r, c]}\"] * Nt[idx])\n",
    "            \n",
    "            c_i[idx] = curve_fit(\n",
    "                f      = lambda _, ci:\n",
    "                            r0 * ci / (ci + np.exp(-m * points)) * epsilon.loc[p, f\"epsilon {c2l[r, c]}\"] * integral,\n",
    "                xdata  = 80085,\n",
    "                ydata  = rho[idx],\n",
    "                bounds = (0, np.inf)\n",
    "            )[0]\n",
    "    \n",
    "    previous_alphas = alphas.copy()\n",
    "    alphas.loc[:, \"r0 i\"] = list(r0_m[\"r0\"].repeat(n_rows * n_columns))\n",
    "    alphas.loc[:, \"m i\"] = list(r0_m[\"m\"].repeat(n_rows * n_columns))\n",
    "    alphas.loc[:, \"c i\"] = list(c_i)\n",
    "    \n",
    "    previous_alpha = alpha.copy()\n",
    "    for idx in product(plates, rows, columns):\n",
    "        r0, ci, mi = alphas.loc[idx]\n",
    "        alpha[idx] = r0 * ci / (ci + np.exp(-mi * points))\n",
    "    \n",
    "    predictions = np.array([\n",
    "            alpha[p].reshape((-1, n_points))\n",
    "        *   epsilon.loc[p].dot(layers.reshape((16, -1))).T.values\n",
    "        *   np.exp(-(\n",
    "                nus.loc[p, \"nu\"]\n",
    "            *   alpha[p].reshape((-1, n_points))\n",
    "            *   epsilon.loc[p].dot(layers.reshape((16, -1))).T.values\n",
    "            *   Nt[p].reshape((-1, n_points))\n",
    "            ).cumsum(axis = 1))\n",
    "        for p in plates\n",
    "    ]).reshape((n_plates, n_rows, n_columns, n_points))\n",
    "    \n",
    "    current_score = lse(predictions.reshape(-1), rho.reshape(-1))\n",
    "    if current_score < previous_score:\n",
    "        previous_score = current_score\n",
    "    else:\n",
    "        alphas = previous_alphas\n",
    "        alpha = previous_alpha\n",
    "        epsilon = previous_epsilon\n",
    "        nus = previous_nus\n",
    "        break"
   ]
  },
  {
   "cell_type": "markdown",
   "id": "4dce0817",
   "metadata": {},
   "source": [
    "Saving the prediction results :"
   ]
  },
  {
   "cell_type": "code",
   "execution_count": null,
   "id": "29452d56",
   "metadata": {},
   "outputs": [],
   "source": [
    "predictions = np.array([\n",
    "        alpha[p].reshape((-1, n_points))\n",
    "    *   epsilon.loc[p].dot(layers.reshape((16, -1))).T.values\n",
    "    *   np.exp(-(\n",
    "            nus.loc[p, \"nu\"]\n",
    "        *   alpha[p].reshape((-1, n_points))\n",
    "        *   epsilon.loc[p].dot(layers.reshape((16, -1))).T.values\n",
    "        *   Nt[p].reshape((-1, n_points))\n",
    "        ).cumsum(axis = 1))\n",
    "    for p in plates\n",
    "]).reshape((n_plates, n_rows, n_columns, n_points))"
   ]
  },
  {
   "cell_type": "code",
   "execution_count": null,
   "id": "df92aff5",
   "metadata": {},
   "outputs": [],
   "source": [
    "np.save(\"predictions/level-2_alpha-epsilon_k-phi.npy\", predictions)"
   ]
  }
 ],
 "metadata": {
  "kernelspec": {
   "display_name": "Python 3 (ipykernel)",
   "language": "python",
   "name": "python3"
  },
  "language_info": {
   "codemirror_mode": {
    "name": "ipython",
    "version": 3
   },
   "file_extension": ".py",
   "mimetype": "text/x-python",
   "name": "python",
   "nbconvert_exporter": "python",
   "pygments_lexer": "ipython3",
   "version": "3.11.8"
  }
 },
 "nbformat": 4,
 "nbformat_minor": 5
}
