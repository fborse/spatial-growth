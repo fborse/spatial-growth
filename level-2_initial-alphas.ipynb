{
 "cells": [
  {
   "cell_type": "code",
   "execution_count": null,
   "id": "f5b88762",
   "metadata": {},
   "outputs": [],
   "source": [
    "import numpy as np\n",
    "import pandas as pd"
   ]
  },
  {
   "cell_type": "code",
   "execution_count": null,
   "id": "78cfe314",
   "metadata": {},
   "outputs": [],
   "source": [
    "from scipy.optimize import curve_fit"
   ]
  },
  {
   "cell_type": "code",
   "execution_count": null,
   "id": "b44d5dfe",
   "metadata": {},
   "outputs": [],
   "source": [
    "from itertools import product"
   ]
  },
  {
   "cell_type": "code",
   "execution_count": null,
   "id": "68d974f9",
   "metadata": {},
   "outputs": [],
   "source": [
    "# notice the changes compared to commons.smoothen\n",
    "def smoothen(xs, window):\n",
    "    l = xs.shape[-1]\n",
    "    return np.moveaxis([\n",
    "        xs[..., max(0, t-window) : min(l, t+window)]\n",
    "            .mean(axis = len(xs.shape)-1)\n",
    "        for t in range(l)\n",
    "    ], 0, 3)"
   ]
  },
  {
   "cell_type": "markdown",
   "id": "159ccb2e",
   "metadata": {},
   "source": [
    "# Preparations"
   ]
  },
  {
   "cell_type": "markdown",
   "id": "0901b777",
   "metadata": {},
   "source": [
    "## Loading the data"
   ]
  },
  {
   "cell_type": "markdown",
   "id": "c04c9d41",
   "metadata": {},
   "source": [
    "We first load the $N_i(t)$, while smoothening them (window = 5) :"
   ]
  },
  {
   "cell_type": "code",
   "execution_count": null,
   "id": "080b76d9",
   "metadata": {},
   "outputs": [],
   "source": [
    "Nt = smoothen(np.load(\"curves_raw.npy\"), 5)"
   ]
  },
  {
   "cell_type": "markdown",
   "id": "f530bec3",
   "metadata": {},
   "source": [
    "Let's also compute the discrete derivatives $\\frac{\\Delta N_i(t)}{\\Delta t} = \\Delta N_i(t) = N_i(t+1) - N_i(t)$"
   ]
  },
  {
   "cell_type": "code",
   "execution_count": null,
   "id": "3a3a8dd3",
   "metadata": {},
   "outputs": [],
   "source": [
    "dNdt = Nt[..., 1:] - Nt[..., :-1]"
   ]
  },
  {
   "cell_type": "markdown",
   "id": "46cd595e",
   "metadata": {},
   "source": [
    "and $\\rho_i(t) = \\frac{\\Delta N_i(t)}{N_i(t)}$"
   ]
  },
  {
   "cell_type": "code",
   "execution_count": null,
   "id": "ba3b6905",
   "metadata": {},
   "outputs": [],
   "source": [
    "rho = dNdt / Nt[..., :-1]"
   ]
  },
  {
   "cell_type": "markdown",
   "id": "c2c32351",
   "metadata": {},
   "source": [
    "We now perform similar computations for another set of $\\rho_i(t)$ but with more aggressive smoothening, whose purpose is to provide valid times until maximum growth is reached (i.e. argmax happens after t=0) :"
   ]
  },
  {
   "cell_type": "code",
   "execution_count": null,
   "id": "3750ad2f",
   "metadata": {},
   "outputs": [],
   "source": [
    "nt = smoothen(np.load(\"curves_raw.npy\"), 10)"
   ]
  },
  {
   "cell_type": "code",
   "execution_count": null,
   "id": "bfa4e80e",
   "metadata": {},
   "outputs": [],
   "source": [
    "dndt = nt[..., 1:] - nt[..., :-1]"
   ]
  },
  {
   "cell_type": "code",
   "execution_count": null,
   "id": "9f5930e6",
   "metadata": {},
   "outputs": [],
   "source": [
    "dnn = smoothen(dndt / nt[..., :-1], 6)"
   ]
  },
  {
   "cell_type": "markdown",
   "id": "a7813273",
   "metadata": {},
   "source": [
    "## Dimensions"
   ]
  },
  {
   "cell_type": "markdown",
   "id": "90e05ff1",
   "metadata": {},
   "source": [
    "Let's also get the dimensionality of our data :"
   ]
  },
  {
   "cell_type": "code",
   "execution_count": null,
   "id": "a6e5fef4",
   "metadata": {},
   "outputs": [],
   "source": [
    "n_plates, n_rows, n_columns, n_points = Nt.shape\n",
    "plates, rows, columns, points = map(np.arange, Nt.shape)"
   ]
  },
  {
   "cell_type": "markdown",
   "id": "fdab8d4d",
   "metadata": {},
   "source": [
    "# Model-aware $\\alpha_i(t)$"
   ]
  },
  {
   "cell_type": "markdown",
   "id": "bc88b8d9",
   "metadata": {},
   "source": [
    "Let's assume the model\n",
    "$$ \\alpha_i(t) = r_0 \\frac{c_i}{c_i + e^{-m t}} $$\n",
    "It has the variables\n",
    "* $r_0$ the *maximum growth rate*\n",
    "* $c_i$ the *internal physiological state*\n",
    "* $m$ the *adjustment rate to growth conditions*"
   ]
  },
  {
   "cell_type": "markdown",
   "id": "8385cd91",
   "metadata": {},
   "source": [
    "## Population-specific $r_{0,i}$ and $c_i$ and $m_i$"
   ]
  },
  {
   "cell_type": "markdown",
   "id": "a99a379a",
   "metadata": {},
   "source": [
    "Let's first find local ($r_{0,i}$, $m_i$ and $c_i$) to fit $\\rho_i(t) = \\alpha_i(t)$ :"
   ]
  },
  {
   "cell_type": "code",
   "execution_count": null,
   "id": "8f864b74",
   "metadata": {},
   "outputs": [],
   "source": [
    "params0 = pd.DataFrame(\n",
    "    data    = np.empty((n_plates * n_rows * n_columns, 3)),\n",
    "    columns = (\"r0 i\", \"m i\", \"c i\"),\n",
    "    index   = pd.MultiIndex.from_product((plates, rows, columns), names = (\"plate\", \"row\", \"column\"))\n",
    ")\n",
    "params0[\"r0 i\"] = rho.max(axis = 3).reshape(-1)"
   ]
  },
  {
   "cell_type": "code",
   "execution_count": null,
   "id": "3c0422c9",
   "metadata": {},
   "outputs": [],
   "source": [
    "for idx in product(plates, rows, columns):\n",
    "    t_max = dnn[idx].argmax()\n",
    "    \n",
    "    params0.loc[idx] = curve_fit(\n",
    "        f      = lambda t, r_0i, m_i, c_i:\n",
    "                    r_0i * c_i / (c_i + np.exp(-m_i * t)),\n",
    "        xdata  = np.arange(t_max),\n",
    "        ydata  = rho[idx][:t_max],\n",
    "        p0     = (rho[idx].max(), 0.1, 1),\n",
    "        bounds = (0, (2*rho[idx].max(), 5, 10))\n",
    "    )[0]"
   ]
  },
  {
   "cell_type": "markdown",
   "id": "59c99191",
   "metadata": {},
   "source": [
    "Let's first find the $(c_i, m_i)$ to fit $\\rho_i(t) = \\alpha_i(t)$, calculating $r_{0,i}$ from the maximum of each curve :"
   ]
  },
  {
   "cell_type": "code",
   "execution_count": null,
   "id": "d230cb33",
   "metadata": {},
   "outputs": [],
   "source": [
    "for idx in product(plates, rows, columns):\n",
    "    r0_i, t_max = params0.loc[idx, \"r0 i\"], dnn[idx].argmax()\n",
    "    \n",
    "    params0.loc[idx][1:] = curve_fit(\n",
    "        f      = lambda t, m_i, c_i:\n",
    "                    r0_i * c_i / (c_i + np.exp(-m_i * t)),\n",
    "        xdata  = np.arange(t_max),\n",
    "        ydata  = rho[idx][:t_max],\n",
    "        p0     = (0.1, 1),\n",
    "        bounds = (0, np.inf)\n",
    "    )[0]"
   ]
  },
  {
   "cell_type": "code",
   "execution_count": null,
   "id": "efb58583",
   "metadata": {},
   "outputs": [],
   "source": [
    "params0.to_csv(\"alpha/params0.csv\")"
   ]
  },
  {
   "cell_type": "markdown",
   "id": "c7a291e4",
   "metadata": {},
   "source": [
    "## Global values for $r_0$ and $m$"
   ]
  },
  {
   "cell_type": "markdown",
   "id": "85f5cd0e",
   "metadata": {},
   "source": [
    "First let's make the input/output values consistent with the individual growth to the maximum by padding with a deterministic value :"
   ]
  },
  {
   "cell_type": "code",
   "execution_count": null,
   "id": "76a3baec",
   "metadata": {},
   "outputs": [],
   "source": [
    "ts  = np.full((n_plates, n_rows, n_columns, n_points), np.nan)\n",
    "cis = np.full((n_plates, n_rows, n_columns, n_points), np.nan)\n",
    "ys  = np.full((n_plates, n_rows, n_columns, n_points), np.nan)\n",
    "\n",
    "for idx in product(plates, rows, columns):\n",
    "    t_max = dnn[idx].argmax()\n",
    "    \n",
    "    ts[idx][:t_max]  = np.arange(t_max)\n",
    "    cis[idx][:t_max] = params0.loc[idx, \"c i\"]\n",
    "    ys[idx][:t_max]  = rho[idx][:t_max]"
   ]
  },
  {
   "cell_type": "markdown",
   "id": "0a43e37a",
   "metadata": {},
   "source": [
    "Let's now find the global values for $r_0$ and $m$ :"
   ]
  },
  {
   "cell_type": "code",
   "execution_count": null,
   "id": "62c05087",
   "metadata": {},
   "outputs": [],
   "source": [
    "r0_m = pd.DataFrame(\n",
    "    data    = np.empty((n_plates, 2)),\n",
    "    columns = (\"r0\", \"m\"),\n",
    "    index   = pd.Index(plates, name = \"plate\")\n",
    ")"
   ]
  },
  {
   "cell_type": "code",
   "execution_count": null,
   "id": "b6f702de",
   "metadata": {},
   "outputs": [],
   "source": [
    "for p in plates:\n",
    "    ci = pd.Series(cis[p].reshape(-1)).dropna()\n",
    "    \n",
    "    r0_m.loc[p] = curve_fit(\n",
    "        f     = lambda t, r0, m:\n",
    "                    r0 * ci / (ci + np.exp(-m * t)),\n",
    "        xdata = pd.Series(ts[p].reshape(-1)).dropna(),\n",
    "        ydata = pd.Series(ys[p].reshape(-1)).dropna(),\n",
    "        p0    = tuple(params0.loc[p, [\"r0 i\", \"m i\"]].mean())\n",
    "    )[0]"
   ]
  },
  {
   "cell_type": "markdown",
   "id": "96be395c",
   "metadata": {},
   "source": [
    "# Recomputing the $c_i$"
   ]
  },
  {
   "cell_type": "markdown",
   "id": "74577f34",
   "metadata": {},
   "source": [
    "Let's finally recompute the $c_i$ :"
   ]
  },
  {
   "cell_type": "code",
   "execution_count": null,
   "id": "8c877ab5",
   "metadata": {},
   "outputs": [],
   "source": [
    "c_i = pd.Series(\n",
    "    data  = np.empty(n_plates * n_rows * n_columns),\n",
    "    index = params0.index\n",
    ")"
   ]
  },
  {
   "cell_type": "code",
   "execution_count": null,
   "id": "297d65dd",
   "metadata": {},
   "outputs": [],
   "source": [
    "for p in plates:\n",
    "    r0, m = r0_m.loc[p]\n",
    "    \n",
    "    for r, c in product(rows, columns):\n",
    "        idx = (p, r, c)\n",
    "        t_max = dnn[idx].argmax()\n",
    "        \n",
    "        c_i[idx] = curve_fit(\n",
    "            f      = lambda t, ci:\n",
    "                        r0 * ci / (ci + np.exp(-m * t)),\n",
    "            xdata  = np.arange(t_max),\n",
    "            ydata  = rho[idx][:t_max],\n",
    "            bounds = (0, np.inf)\n",
    "        )[0]"
   ]
  },
  {
   "cell_type": "markdown",
   "id": "60807b7d",
   "metadata": {},
   "source": [
    "Let's make a proper data frame for these parameters :"
   ]
  },
  {
   "cell_type": "code",
   "execution_count": null,
   "id": "ed7eaea3",
   "metadata": {},
   "outputs": [],
   "source": [
    "params = params0.copy()\n",
    "for p in plates:\n",
    "    params.loc[p, \"r0 i\"] = r0_m.loc[p, \"r0\"]\n",
    "    params.loc[p, \"m i\"]  = r0_m.loc[p, \"m\"]\n",
    "    params.loc[p, \"c i\"]  = c_i"
   ]
  },
  {
   "cell_type": "code",
   "execution_count": null,
   "id": "f43f3d18",
   "metadata": {},
   "outputs": [],
   "source": [
    "params.to_csv(\"alpha/params.csv\")"
   ]
  },
  {
   "cell_type": "markdown",
   "id": "6105b857",
   "metadata": {},
   "source": [
    "# Computing the $\\alpha_i(t)$"
   ]
  },
  {
   "cell_type": "markdown",
   "id": "53eca18c",
   "metadata": {},
   "source": [
    "Let's compute the $\\alpha_i(t)$ from these parameters, and store them :"
   ]
  },
  {
   "cell_type": "code",
   "execution_count": null,
   "id": "16235d39",
   "metadata": {},
   "outputs": [],
   "source": [
    "alpha = np.empty((4, 32, 48, 218))\n",
    "for idx in product(plates, rows, columns):\n",
    "    r0, mi, ci = params.loc[idx]\n",
    "    alpha[idx] = r0 * ci / (ci + np.exp(-mi * np.arange(218)))"
   ]
  },
  {
   "cell_type": "code",
   "execution_count": null,
   "id": "ebd5d2fa",
   "metadata": {},
   "outputs": [],
   "source": [
    "np.save(\"alpha/computed.npy\", alpha)"
   ]
  }
 ],
 "metadata": {
  "kernelspec": {
   "display_name": "Python 3 (ipykernel)",
   "language": "python",
   "name": "python3"
  },
  "language_info": {
   "codemirror_mode": {
    "name": "ipython",
    "version": 3
   },
   "file_extension": ".py",
   "mimetype": "text/x-python",
   "name": "python",
   "nbconvert_exporter": "python",
   "pygments_lexer": "ipython3",
   "version": "3.11.8"
  }
 },
 "nbformat": 4,
 "nbformat_minor": 5
}
