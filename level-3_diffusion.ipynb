{
 "cells": [
  {
   "cell_type": "code",
   "execution_count": 1,
   "id": "3bc4c896",
   "metadata": {},
   "outputs": [],
   "source": [
    "import numpy as np\n",
    "import pandas as pd"
   ]
  },
  {
   "cell_type": "code",
   "execution_count": 2,
   "id": "bdc484e8",
   "metadata": {},
   "outputs": [],
   "source": [
    "from scipy.optimize import curve_fit"
   ]
  },
  {
   "cell_type": "code",
   "execution_count": 3,
   "id": "914d2dfd",
   "metadata": {},
   "outputs": [],
   "source": [
    "from itertools import product"
   ]
  },
  {
   "cell_type": "code",
   "execution_count": 4,
   "id": "21d1a336",
   "metadata": {},
   "outputs": [],
   "source": [
    "from commons import smoothen, lse, avgnb"
   ]
  },
  {
   "cell_type": "code",
   "execution_count": 5,
   "id": "08bbfdf4",
   "metadata": {},
   "outputs": [],
   "source": [
    "n_iterations = 20"
   ]
  },
  {
   "cell_type": "markdown",
   "id": "92c6ce83",
   "metadata": {},
   "source": [
    "# Preparations"
   ]
  },
  {
   "cell_type": "markdown",
   "id": "0cb0c946",
   "metadata": {},
   "source": [
    "## Loading the data"
   ]
  },
  {
   "cell_type": "markdown",
   "id": "e4ef881d",
   "metadata": {},
   "source": [
    "We start by loading the growth curves $N_i(t)$ while smoothening them ; additionally, we load it as a 38 x 54 grid where the inner 32 x 48 will contain the growth curves :"
   ]
  },
  {
   "cell_type": "code",
   "execution_count": 6,
   "id": "e8df2521",
   "metadata": {},
   "outputs": [],
   "source": [
    "_ = np.moveaxis(np.load(\"synthetic-data.npy\"), 1, 3)\n",
    "Nt = np.zeros(np.array(_.shape) + np.array((0, 6, 6, 0)))\n",
    "Nt[:, 3:-3, 3:-3, :] = _"
   ]
  },
  {
   "cell_type": "markdown",
   "id": "64b54d08",
   "metadata": {},
   "source": [
    "Let's also calculate already the derivatives $\\frac{\\Delta N_i(t)}{\\Delta t} = \\Delta N_i(t) = N_i(t+1) - N_i(t)$"
   ]
  },
  {
   "cell_type": "code",
   "execution_count": 7,
   "id": "3b6ccbfd",
   "metadata": {},
   "outputs": [],
   "source": [
    "dNdt = Nt[:, 3:-3, 3:-3, 1:] - Nt[:, 3:-3, 3:-3, :-1]"
   ]
  },
  {
   "cell_type": "markdown",
   "id": "f647432e",
   "metadata": {},
   "source": [
    "and $\\rho_i(t) = \\frac{\\Delta N_i(t)}{N_i(t)}$"
   ]
  },
  {
   "cell_type": "code",
   "execution_count": 8,
   "id": "df4bfd40",
   "metadata": {},
   "outputs": [],
   "source": [
    "rho = np.zeros_like(Nt[..., :-1])\n",
    "rho[:, 3:-3, 3:-3] = dNdt / Nt[:, 3:-3, 3:-3, :-1]"
   ]
  },
  {
   "cell_type": "markdown",
   "id": "708425b4",
   "metadata": {},
   "source": [
    "Let's get the number of points consistent between $N_i(t)$ and the derivatives :"
   ]
  },
  {
   "cell_type": "code",
   "execution_count": 9,
   "id": "e7032605",
   "metadata": {},
   "outputs": [],
   "source": [
    "Nt = Nt[..., :-1]"
   ]
  },
  {
   "cell_type": "markdown",
   "id": "3011ec9e",
   "metadata": {},
   "source": [
    "## Dimensions"
   ]
  },
  {
   "cell_type": "markdown",
   "id": "89311ce9",
   "metadata": {},
   "source": [
    "We also get the dimensions"
   ]
  },
  {
   "cell_type": "code",
   "execution_count": 10,
   "id": "7d7b2358",
   "metadata": {},
   "outputs": [],
   "source": [
    "n_plates, n_rows, n_columns, n_points = Nt.shape\n",
    "plates, rows, columns, points = map(np.arange, Nt.shape)"
   ]
  },
  {
   "cell_type": "markdown",
   "id": "224fff82",
   "metadata": {},
   "source": [
    "## Initial $\\alpha_i(t)$ parameter values"
   ]
  },
  {
   "cell_type": "markdown",
   "id": "8c9b2c43",
   "metadata": {},
   "source": [
    "The diffusion models requires us to provide $\\alpha_it(t)$ parameter values, which we load here :"
   ]
  },
  {
   "cell_type": "code",
   "execution_count": 11,
   "id": "3b815bee",
   "metadata": {},
   "outputs": [],
   "source": [
    "alpha = np.zeros_like(rho)\n",
    "alpha[:, 3:-3, 3:-3] = np.load(\"alpha/computed.npy\")[..., :-11]"
   ]
  },
  {
   "cell_type": "markdown",
   "id": "19dcae70",
   "metadata": {},
   "source": [
    "As we will recompute these values iteratively, along with the parameters that lead for those values, so here are some initial parameter values :"
   ]
  },
  {
   "cell_type": "code",
   "execution_count": 12,
   "id": "6b57af48",
   "metadata": {},
   "outputs": [],
   "source": [
    "alphas = pd.read_csv(\"alpha/params.csv\")\n",
    "alphas.index = pd.MultiIndex.from_frame(alphas[[\"plate\", \"row\", \"column\"]])\n",
    "alphas = alphas[[\"r0 i\", \"c i\", \"m i\"]]"
   ]
  },
  {
   "cell_type": "markdown",
   "id": "84d42f38",
   "metadata": {},
   "source": [
    "The $r_0$ and $m$ parameters are global"
   ]
  },
  {
   "cell_type": "code",
   "execution_count": 13,
   "id": "aa139a77",
   "metadata": {},
   "outputs": [],
   "source": [
    "r0_m = pd.DataFrame(index = pd.Index(plates, name = \"plate\"))\n",
    "\n",
    "r0_m[\"r0\"] = alphas[\"r0 i\"].unique()\n",
    "r0_m[\"m\"] = alphas[\"m i\"].unique()"
   ]
  },
  {
   "cell_type": "markdown",
   "id": "09907f83",
   "metadata": {},
   "source": [
    "while the $c_i$ parameters are population-specific"
   ]
  },
  {
   "cell_type": "code",
   "execution_count": 14,
   "id": "a4aed9a6",
   "metadata": {},
   "outputs": [],
   "source": [
    "c_i = alphas[\"c i\"]\n",
    "c_i.index = alphas.index"
   ]
  },
  {
   "cell_type": "markdown",
   "id": "01a66acd",
   "metadata": {},
   "source": [
    "# $\\rho_i(t) = \\alpha_i(t) \\; f(s(t, x_i))$"
   ]
  },
  {
   "cell_type": "markdown",
   "id": "0798a661",
   "metadata": {},
   "source": [
    "$$\n",
    "    \\frac{dN}{dt} = \\alpha(t) f(s) \\; N(t)\n",
    "$$\n",
    "$$\n",
    "    \\frac{ds}{dt} = D \\; \\nabla^2 s(t) - \\nu_1 \\frac{dN}{dt} - \\nu_2 N(t)\n",
    "$$\n",
    "\n",
    "where $f(s) = \\left(1 + e^{-sK}\\right)^{-\\kappa}$.\n",
    "\n",
    "By plugging the first equation into the second, and applying the mean-field approach, we obtain :\n",
    "$$\n",
    "    \\frac{ds}{dt} = D \\left(\\bar s - s\\right) - \\nu_1 \\alpha f(s) N - \\nu_2 N\n",
    "$$"
   ]
  },
  {
   "cell_type": "markdown",
   "id": "f11d600e",
   "metadata": {},
   "source": [
    "We start by loading initial parameters for the model, as the fit is difficult enough :"
   ]
  },
  {
   "cell_type": "code",
   "execution_count": 15,
   "id": "dc86e836",
   "metadata": {},
   "outputs": [],
   "source": [
    "params = pd.read_csv(\"diffusion-parameters/initial-guesses.csv\")"
   ]
  },
  {
   "cell_type": "markdown",
   "id": "dd0ebe66",
   "metadata": {},
   "source": [
    "We now perform the fit iteratively, while refitting the $\\alpha_i(t)$ every iteration :"
   ]
  },
  {
   "cell_type": "code",
   "execution_count": 16,
   "id": "cb2c6e7b",
   "metadata": {},
   "outputs": [],
   "source": [
    "def f(s, K, kappa):\n",
    "    return (1 + np.exp(-K*s)) ** (-kappa)\n",
    "\n",
    "def dNN(a, s, K, kappa):\n",
    "    return a * f(s, K, kappa)\n",
    "\n",
    "def calculate_s(D, nu1, nu2, K, kappa, a, nt, m, s0 = 1):\n",
    "    s = np.empty_like(a)\n",
    "    s[..., 0] = s0\n",
    "    \n",
    "    for t in range(1, s.shape[-1]):\n",
    "        diffusion = D * (m[..., t-1] - s[..., t-1])\n",
    "        consumption1 = nu1 * a[..., t-1] * f(s[..., t-1], K, kappa) * nt[..., t-1]\n",
    "        consumption2 = nu2 * nt[..., t-1]\n",
    "        s[..., t] = s[..., t-1] + diffusion - consumption1 - consumption2\n",
    "    \n",
    "    return s\n",
    "\n",
    "def calculate_m(s):\n",
    "    m = np.empty_like(s)\n",
    "    nr, nc = s.shape[:2]\n",
    "    \n",
    "    for r, c in product(rows, columns):\n",
    "        val, n = 0, 0\n",
    "        for i in range(max(0, r-1), min(nr, r+2)):\n",
    "            for j in range(max(0, c-1), min(nc, c+2)):\n",
    "                val += s[i, j]\n",
    "                n += 1\n",
    "        m[r, c] = (val - s[r, c]) / (n-1)\n",
    "    \n",
    "    return m\n",
    "\n",
    "def iteration(D, nu1, nu2, K, kappa, a, nt, r, s0 = 1):\n",
    "    m = np.full_like(a, s0)\n",
    "    prev = np.inf\n",
    "    \n",
    "    for it in range(50):\n",
    "        s = calculate_s(D, nu1, nu2, K, kappa, a, nt, m, s0)\n",
    "        current = lse(r.reshape(-1), dNN(a, s, K, kappa).reshape(-1))\n",
    "        if prev < current:\n",
    "            break\n",
    "        else:\n",
    "            m = calculate_m(s)\n",
    "            prev = current\n",
    "    \n",
    "    return s"
   ]
  },
  {
   "cell_type": "code",
   "execution_count": 17,
   "id": "1e53428b",
   "metadata": {
    "scrolled": false
   },
   "outputs": [
    {
     "name": "stdout",
     "output_type": "stream",
     "text": [
      "iteration 1\n",
      "\tplate 1\n",
      "\tplate 2\n"
     ]
    },
    {
     "name": "stderr",
     "output_type": "stream",
     "text": [
      "/tmp/ipykernel_492493/4819609.py:2: RuntimeWarning: overflow encountered in exp\n",
      "  return (1 + np.exp(-K*s)) ** (-kappa)\n"
     ]
    },
    {
     "name": "stdout",
     "output_type": "stream",
     "text": [
      "\tplate 3\n",
      "\tplate 4\n",
      "recalculating the alpha parameters\n",
      "global r0 and m\n",
      "local c i\n",
      "recalculating the alphas and predictions\n"
     ]
    },
    {
     "name": "stderr",
     "output_type": "stream",
     "text": [
      "/tmp/ipykernel_492493/4819609.py:2: RuntimeWarning: overflow encountered in exp\n",
      "  return (1 + np.exp(-K*s)) ** (-kappa)\n"
     ]
    },
    {
     "name": "stdout",
     "output_type": "stream",
     "text": [
      "iteration 2\n",
      "\tplate 1\n",
      "\tplate 2\n",
      "\tplate 3\n",
      "\tplate 4\n",
      "recalculating the alpha parameters\n",
      "global r0 and m\n",
      "local c i\n",
      "recalculating the alphas and predictions\n"
     ]
    },
    {
     "name": "stderr",
     "output_type": "stream",
     "text": [
      "/tmp/ipykernel_492493/4819609.py:2: RuntimeWarning: overflow encountered in exp\n",
      "  return (1 + np.exp(-K*s)) ** (-kappa)\n"
     ]
    },
    {
     "name": "stdout",
     "output_type": "stream",
     "text": [
      "iteration 3\n",
      "\tplate 1\n",
      "\tplate 2\n",
      "\tplate 3\n",
      "\tplate 4\n",
      "recalculating the alpha parameters\n",
      "global r0 and m\n",
      "local c i\n",
      "recalculating the alphas and predictions\n"
     ]
    },
    {
     "name": "stderr",
     "output_type": "stream",
     "text": [
      "/tmp/ipykernel_492493/4819609.py:2: RuntimeWarning: overflow encountered in exp\n",
      "  return (1 + np.exp(-K*s)) ** (-kappa)\n"
     ]
    },
    {
     "name": "stdout",
     "output_type": "stream",
     "text": [
      "iteration 4\n",
      "\tplate 1\n",
      "\tplate 2\n",
      "\tplate 3\n",
      "\tplate 4\n",
      "recalculating the alpha parameters\n",
      "global r0 and m\n",
      "local c i\n",
      "recalculating the alphas and predictions\n"
     ]
    },
    {
     "name": "stderr",
     "output_type": "stream",
     "text": [
      "/tmp/ipykernel_492493/4819609.py:2: RuntimeWarning: overflow encountered in exp\n",
      "  return (1 + np.exp(-K*s)) ** (-kappa)\n"
     ]
    },
    {
     "name": "stdout",
     "output_type": "stream",
     "text": [
      "iteration 5\n",
      "\tplate 1\n",
      "\tplate 2\n",
      "\tplate 3\n",
      "\tplate 4\n",
      "recalculating the alpha parameters\n",
      "global r0 and m\n",
      "local c i\n",
      "recalculating the alphas and predictions\n"
     ]
    },
    {
     "name": "stderr",
     "output_type": "stream",
     "text": [
      "/tmp/ipykernel_492493/4819609.py:2: RuntimeWarning: overflow encountered in exp\n",
      "  return (1 + np.exp(-K*s)) ** (-kappa)\n"
     ]
    },
    {
     "name": "stdout",
     "output_type": "stream",
     "text": [
      "iteration 6\n",
      "\tplate 1\n",
      "\tplate 2\n",
      "\tplate 3\n",
      "\tplate 4\n",
      "recalculating the alpha parameters\n",
      "global r0 and m\n",
      "local c i\n",
      "recalculating the alphas and predictions\n"
     ]
    },
    {
     "name": "stderr",
     "output_type": "stream",
     "text": [
      "/tmp/ipykernel_492493/4819609.py:2: RuntimeWarning: overflow encountered in exp\n",
      "  return (1 + np.exp(-K*s)) ** (-kappa)\n"
     ]
    },
    {
     "name": "stdout",
     "output_type": "stream",
     "text": [
      "iteration 7\n",
      "\tplate 1\n",
      "\tplate 2\n",
      "\tplate 3\n",
      "\tplate 4\n",
      "recalculating the alpha parameters\n",
      "global r0 and m\n",
      "local c i\n",
      "recalculating the alphas and predictions\n"
     ]
    },
    {
     "name": "stderr",
     "output_type": "stream",
     "text": [
      "/tmp/ipykernel_492493/4819609.py:2: RuntimeWarning: overflow encountered in exp\n",
      "  return (1 + np.exp(-K*s)) ** (-kappa)\n"
     ]
    },
    {
     "name": "stdout",
     "output_type": "stream",
     "text": [
      "iteration 8\n",
      "\tplate 1\n",
      "\tplate 2\n",
      "\tplate 3\n",
      "\tplate 4\n",
      "recalculating the alpha parameters\n",
      "global r0 and m\n",
      "local c i\n",
      "recalculating the alphas and predictions\n"
     ]
    },
    {
     "name": "stderr",
     "output_type": "stream",
     "text": [
      "/tmp/ipykernel_492493/4819609.py:2: RuntimeWarning: overflow encountered in exp\n",
      "  return (1 + np.exp(-K*s)) ** (-kappa)\n"
     ]
    },
    {
     "name": "stdout",
     "output_type": "stream",
     "text": [
      "iteration 9\n",
      "\tplate 1\n",
      "\tplate 2\n",
      "\tplate 3\n",
      "\tplate 4\n",
      "recalculating the alpha parameters\n",
      "global r0 and m\n",
      "local c i\n",
      "recalculating the alphas and predictions\n"
     ]
    },
    {
     "name": "stderr",
     "output_type": "stream",
     "text": [
      "/tmp/ipykernel_492493/4819609.py:2: RuntimeWarning: overflow encountered in exp\n",
      "  return (1 + np.exp(-K*s)) ** (-kappa)\n"
     ]
    },
    {
     "name": "stdout",
     "output_type": "stream",
     "text": [
      "iteration 10\n",
      "\tplate 1\n",
      "\tplate 2\n",
      "\tplate 3\n",
      "\tplate 4\n",
      "recalculating the alpha parameters\n",
      "global r0 and m\n",
      "local c i\n",
      "recalculating the alphas and predictions\n"
     ]
    },
    {
     "name": "stderr",
     "output_type": "stream",
     "text": [
      "/tmp/ipykernel_492493/4819609.py:2: RuntimeWarning: overflow encountered in exp\n",
      "  return (1 + np.exp(-K*s)) ** (-kappa)\n"
     ]
    },
    {
     "name": "stdout",
     "output_type": "stream",
     "text": [
      "iteration 11\n",
      "\tplate 1\n",
      "\tplate 2\n",
      "\tplate 3\n",
      "\tplate 4\n",
      "recalculating the alpha parameters\n",
      "global r0 and m\n",
      "local c i\n",
      "recalculating the alphas and predictions\n"
     ]
    },
    {
     "name": "stderr",
     "output_type": "stream",
     "text": [
      "/tmp/ipykernel_492493/4819609.py:2: RuntimeWarning: overflow encountered in exp\n",
      "  return (1 + np.exp(-K*s)) ** (-kappa)\n"
     ]
    },
    {
     "name": "stdout",
     "output_type": "stream",
     "text": [
      "iteration 12\n",
      "\tplate 1\n",
      "\tplate 2\n",
      "\tplate 3\n",
      "\tplate 4\n",
      "recalculating the alpha parameters\n",
      "global r0 and m\n",
      "local c i\n",
      "recalculating the alphas and predictions\n"
     ]
    },
    {
     "name": "stderr",
     "output_type": "stream",
     "text": [
      "/tmp/ipykernel_492493/4819609.py:2: RuntimeWarning: overflow encountered in exp\n",
      "  return (1 + np.exp(-K*s)) ** (-kappa)\n"
     ]
    },
    {
     "name": "stdout",
     "output_type": "stream",
     "text": [
      "iteration 13\n",
      "\tplate 1\n",
      "\tplate 2\n",
      "\tplate 3\n",
      "\tplate 4\n",
      "recalculating the alpha parameters\n",
      "global r0 and m\n",
      "local c i\n",
      "recalculating the alphas and predictions\n"
     ]
    },
    {
     "name": "stderr",
     "output_type": "stream",
     "text": [
      "/tmp/ipykernel_492493/4819609.py:2: RuntimeWarning: overflow encountered in exp\n",
      "  return (1 + np.exp(-K*s)) ** (-kappa)\n"
     ]
    },
    {
     "name": "stdout",
     "output_type": "stream",
     "text": [
      "iteration 14\n",
      "\tplate 1\n",
      "\tplate 2\n",
      "\tplate 3\n",
      "\tplate 4\n",
      "recalculating the alpha parameters\n",
      "global r0 and m\n",
      "local c i\n",
      "recalculating the alphas and predictions\n"
     ]
    },
    {
     "name": "stderr",
     "output_type": "stream",
     "text": [
      "/tmp/ipykernel_492493/4819609.py:2: RuntimeWarning: overflow encountered in exp\n",
      "  return (1 + np.exp(-K*s)) ** (-kappa)\n"
     ]
    },
    {
     "name": "stdout",
     "output_type": "stream",
     "text": [
      "iteration 15\n",
      "\tplate 1\n",
      "\tplate 2\n",
      "\tplate 3\n",
      "\tplate 4\n",
      "recalculating the alpha parameters\n",
      "global r0 and m\n",
      "local c i\n",
      "recalculating the alphas and predictions\n"
     ]
    },
    {
     "name": "stderr",
     "output_type": "stream",
     "text": [
      "/tmp/ipykernel_492493/4819609.py:2: RuntimeWarning: overflow encountered in exp\n",
      "  return (1 + np.exp(-K*s)) ** (-kappa)\n"
     ]
    },
    {
     "name": "stdout",
     "output_type": "stream",
     "text": [
      "iteration 16\n",
      "\tplate 1\n",
      "\tplate 2\n",
      "\tplate 3\n",
      "\tplate 4\n",
      "recalculating the alpha parameters\n",
      "global r0 and m\n",
      "local c i\n",
      "recalculating the alphas and predictions\n"
     ]
    },
    {
     "name": "stderr",
     "output_type": "stream",
     "text": [
      "/tmp/ipykernel_492493/4819609.py:2: RuntimeWarning: overflow encountered in exp\n",
      "  return (1 + np.exp(-K*s)) ** (-kappa)\n"
     ]
    },
    {
     "name": "stdout",
     "output_type": "stream",
     "text": [
      "iteration 17\n",
      "\tplate 1\n",
      "\tplate 2\n",
      "\tplate 3\n",
      "\tplate 4\n",
      "recalculating the alpha parameters\n",
      "global r0 and m\n",
      "local c i\n",
      "recalculating the alphas and predictions\n"
     ]
    },
    {
     "name": "stderr",
     "output_type": "stream",
     "text": [
      "/tmp/ipykernel_492493/4819609.py:2: RuntimeWarning: overflow encountered in exp\n",
      "  return (1 + np.exp(-K*s)) ** (-kappa)\n"
     ]
    },
    {
     "name": "stdout",
     "output_type": "stream",
     "text": [
      "iteration 18\n",
      "\tplate 1\n",
      "\tplate 2\n",
      "\tplate 3\n",
      "\tplate 4\n",
      "recalculating the alpha parameters\n",
      "global r0 and m\n",
      "local c i\n",
      "recalculating the alphas and predictions\n"
     ]
    },
    {
     "name": "stderr",
     "output_type": "stream",
     "text": [
      "/tmp/ipykernel_492493/4819609.py:2: RuntimeWarning: overflow encountered in exp\n",
      "  return (1 + np.exp(-K*s)) ** (-kappa)\n"
     ]
    },
    {
     "name": "stdout",
     "output_type": "stream",
     "text": [
      "iteration 19\n",
      "\tplate 1\n",
      "\tplate 2\n",
      "\tplate 3\n",
      "\tplate 4\n",
      "recalculating the alpha parameters\n",
      "global r0 and m\n",
      "local c i\n",
      "recalculating the alphas and predictions\n"
     ]
    },
    {
     "name": "stderr",
     "output_type": "stream",
     "text": [
      "/tmp/ipykernel_492493/4819609.py:2: RuntimeWarning: overflow encountered in exp\n",
      "  return (1 + np.exp(-K*s)) ** (-kappa)\n"
     ]
    },
    {
     "name": "stdout",
     "output_type": "stream",
     "text": [
      "iteration 20\n",
      "\tplate 1\n",
      "\tplate 2\n",
      "\tplate 3\n",
      "\tplate 4\n",
      "recalculating the alpha parameters\n",
      "global r0 and m\n",
      "local c i\n",
      "recalculating the alphas and predictions\n"
     ]
    },
    {
     "name": "stderr",
     "output_type": "stream",
     "text": [
      "/tmp/ipykernel_492493/4819609.py:2: RuntimeWarning: overflow encountered in exp\n",
      "  return (1 + np.exp(-K*s)) ** (-kappa)\n"
     ]
    }
   ],
   "source": [
    "previous_score = np.inf\n",
    "for it in range(n_iterations):\n",
    "    print(f\"iteration {it+1}\")\n",
    "    previous_params = params.copy()\n",
    "    for p in plates:\n",
    "        print(f\"\\tplate {p+1}\")\n",
    "        params.loc[p] = curve_fit(\n",
    "            f      = lambda _, d, nu1, k, kappa, nu2: dNN(alpha[p], iteration(nt = Nt[p], a = alpha[p], r = rho[p], D = d, nu1 = nu1, K = k, kappa = kappa, nu2 = nu2), K = k, kappa = kappa).reshape(-1),\n",
    "            xdata  = 42,\n",
    "            ydata  = rho[p].reshape(-1),\n",
    "            bounds = (0, np.inf),\n",
    "            p0     = params.loc[p]\n",
    "        )[0]\n",
    "\n",
    "    print(\"recalculating the alpha parameters\")\n",
    "        \n",
    "    fs = np.array([\n",
    "        f(\n",
    "            s = iteration(nt = Nt[p], a = alpha[p], r = rho[p], **params.loc[p])[3:-3, 3:-3],\n",
    "            K = params.loc[p, \"K\"],\n",
    "            kappa = params.loc[p, \"kappa\"]\n",
    "        )\n",
    "        for p in plates\n",
    "    ])\n",
    "    \n",
    "    print(\"global r0 and m\")\n",
    "    r0_m = pd.DataFrame(\n",
    "        data    = np.empty((n_plates, 2)),\n",
    "        columns = (\"r0\", \"m\"),\n",
    "        index   = pd.Index(plates, name = \"plate\")\n",
    "    )\n",
    "\n",
    "    ts = np.tile(points, (n_rows-6) * (n_columns-6))\n",
    "    for p in plates:\n",
    "        ci = alphas.loc[p, \"c i\"].values.repeat(n_points)\n",
    "        r0_m.loc[p] = curve_fit(\n",
    "            f     = lambda _, r0, m:\n",
    "                r0 * ci / (ci + np.exp(-m * ts)) * fs[p].reshape(-1),\n",
    "            xdata = 80085,\n",
    "            ydata = rho[p, 3:-3, 3:-3].reshape(-1)\n",
    "        )[0]\n",
    "\n",
    "    print(\"local c i\")\n",
    "    c_i = pd.Series(\n",
    "        data  = np.empty(n_plates * (n_rows-6) * (n_columns-6)),\n",
    "        index = alphas.index\n",
    "    )\n",
    "\n",
    "    for p in plates:\n",
    "        r0, m = r0_m.loc[p]\n",
    "        for r, c in product(rows[:-6], columns[:-6]):\n",
    "            c_i[(p, r, c)] = curve_fit(\n",
    "                f      = lambda _, ci:\n",
    "                            r0 * ci / (ci + np.exp(-m * points)) * fs[(p, r, c)],\n",
    "                xdata  = 80085,\n",
    "                ydata  = rho[(p, r+3, c+3)],\n",
    "                bounds = (0, np.inf)\n",
    "            )[0]\n",
    "\n",
    "    previous_alphas = alphas.copy()\n",
    "    alphas.loc[:, \"r0 i\"] = list(r0_m[\"r0\"].repeat((n_rows-6) * (n_columns-6)))\n",
    "    alphas.loc[:, \"m i\"] = list(r0_m[\"m\"].repeat((n_rows-6) * (n_columns-6)))\n",
    "    alphas.loc[:, \"c i\"] = list(c_i)\n",
    "\n",
    "    print(\"recalculating the alphas and predictions\")\n",
    "    previous_alpha = alpha.copy()\n",
    "    for p, r, c in product(plates, rows[:-6], columns[:-6]):\n",
    "        r0, ci, mi = alphas.loc[(p, r, c)]\n",
    "        alpha[p, r+3, c+3] = r0 * ci / (ci + np.exp(-mi * points))\n",
    "    \n",
    "    predictions = np.array([\n",
    "        dNN(alpha[p], iteration(nt = Nt[p], a = alpha[p], r = rho[p], **params.loc[p]), params.loc[p, \"K\"], params.loc[p, \"kappa\"])\n",
    "        for p in plates\n",
    "    ])\n",
    "    \n",
    "    current_score = lse(predictions.reshape(-1), rho.reshape(-1))\n",
    "    if current_score < previous_score:\n",
    "        previous_score = current_score\n",
    "    else:\n",
    "        alphas = previous_alphas\n",
    "        alpha = previous_alpha\n",
    "        params = previous_params\n",
    "        break"
   ]
  },
  {
   "cell_type": "markdown",
   "id": "eebd3133",
   "metadata": {},
   "source": [
    "This time, we will store optimal parameters, predictions of $\\hat\\rho_i(t)$ but also the computed $s(x_i, t)$ :"
   ]
  },
  {
   "cell_type": "code",
   "execution_count": 18,
   "id": "d19f0c24",
   "metadata": {},
   "outputs": [],
   "source": [
    "params.to_csv(\"diffusion-parameters/optimal.csv\", index = False)"
   ]
  },
  {
   "cell_type": "code",
   "execution_count": 19,
   "id": "022e3bac",
   "metadata": {},
   "outputs": [
    {
     "name": "stderr",
     "output_type": "stream",
     "text": [
      "/tmp/ipykernel_492493/4819609.py:2: RuntimeWarning: overflow encountered in exp\n",
      "  return (1 + np.exp(-K*s)) ** (-kappa)\n"
     ]
    }
   ],
   "source": [
    "predictions = np.array([\n",
    "    dNN(alpha[p], iteration(nt = Nt[p], a = alpha[p], r = rho[p], **params.loc[p]), params.loc[p, \"K\"], params.loc[p, \"kappa\"])\n",
    "    for p in plates\n",
    "])"
   ]
  },
  {
   "cell_type": "code",
   "execution_count": 20,
   "id": "816ef2fa",
   "metadata": {},
   "outputs": [],
   "source": [
    "np.save(\"predictions/level-3_diffusion.npy\", predictions)"
   ]
  },
  {
   "cell_type": "code",
   "execution_count": 21,
   "id": "59d3d940",
   "metadata": {},
   "outputs": [
    {
     "name": "stderr",
     "output_type": "stream",
     "text": [
      "/tmp/ipykernel_492493/4819609.py:2: RuntimeWarning: overflow encountered in exp\n",
      "  return (1 + np.exp(-K*s)) ** (-kappa)\n"
     ]
    }
   ],
   "source": [
    "substrate = np.array([\n",
    "    iteration(nt = Nt[p], a = alpha[p], r = rho[p], **params.loc[p])\n",
    "    for p in plates\n",
    "])"
   ]
  },
  {
   "cell_type": "code",
   "execution_count": 22,
   "id": "4335edaf",
   "metadata": {},
   "outputs": [],
   "source": [
    "np.save(\"substrate/computed.npy\", substrate)"
   ]
  }
 ],
 "metadata": {
  "kernelspec": {
   "display_name": "Python 3 (ipykernel)",
   "language": "python",
   "name": "python3"
  },
  "language_info": {
   "codemirror_mode": {
    "name": "ipython",
    "version": 3
   },
   "file_extension": ".py",
   "mimetype": "text/x-python",
   "name": "python",
   "nbconvert_exporter": "python",
   "pygments_lexer": "ipython3",
   "version": "3.11.8"
  }
 },
 "nbformat": 4,
 "nbformat_minor": 5
}
